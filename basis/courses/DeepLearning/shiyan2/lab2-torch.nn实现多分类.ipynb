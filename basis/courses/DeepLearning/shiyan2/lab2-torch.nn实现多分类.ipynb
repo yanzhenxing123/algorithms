{
 "cells": [
  {
   "cell_type": "markdown",
   "metadata": {},
   "source": [
    "# torch.nn实现多分类"
   ]
  },
  {
   "cell_type": "code",
   "execution_count": 10,
   "metadata": {},
   "outputs": [],
   "source": [
    "import torch\n",
    "import torch.nn as nn\n",
    "import numpy as np\n",
    "import torchvision\n",
    "import torchvision.transforms as transforms\n",
    "import matplotlib.pyplot as plt\n",
    "batch_size = 256\n",
    "num_workers = 4\n",
    "lr = 3e-2\n",
    "num_epochs = 25\n",
    "gamma = 5e-1 # 用于ELU函数\n",
    "lamda = 0 # weight_decay 惩罚因子"
   ]
  },
  {
   "cell_type": "markdown",
   "metadata": {},
   "source": [
    "## 1 获取和读取数据"
   ]
  },
  {
   "cell_type": "code",
   "execution_count": 20,
   "metadata": {},
   "outputs": [
    {
     "name": "stdout",
     "output_type": "stream",
     "text": [
      "Downloading http://fashion-mnist.s3-website.eu-central-1.amazonaws.com/train-images-idx3-ubyte.gz\n",
      "Downloading http://fashion-mnist.s3-website.eu-central-1.amazonaws.com/train-images-idx3-ubyte.gz to ./datasets/FashionMNIST/FashionMNIST\\raw\\train-images-idx3-ubyte.gz\n",
      "\n",
      "\n"
     ]
    },
    {
     "data": {
      "text/plain": "HBox(children=(IntProgress(value=0, max=26421880), HTML(value='')))",
      "application/vnd.jupyter.widget-view+json": {
       "version_major": 2,
       "version_minor": 0,
       "model_id": "803fbf939b424c3cbbe1e520e8d04c32"
      }
     },
     "metadata": {},
     "output_type": "display_data"
    },
    {
     "ename": "RuntimeError",
     "evalue": "File not found or corrupted.",
     "output_type": "error",
     "traceback": [
      "\u001B[1;31m---------------------------------------------------------------------------\u001B[0m",
      "\u001B[1;31mRuntimeError\u001B[0m                              Traceback (most recent call last)",
      "\u001B[1;32m<ipython-input-20-87fb9ef4ca81>\u001B[0m in \u001B[0;36m<module>\u001B[1;34m\u001B[0m\n\u001B[0;32m      1\u001B[0m mnist_train = torchvision.datasets.FashionMNIST(root='./datasets/FashionMNIST/', train=True,\n\u001B[1;32m----> 2\u001B[1;33m download=True, transform=transforms.ToTensor())\n\u001B[0m\u001B[0;32m      3\u001B[0m mnist_test = torchvision.datasets.FashionMNIST(root='./datasets/FashionMNIST/', train=False,\n\u001B[0;32m      4\u001B[0m download=True, transform=transforms.ToTensor())\n\u001B[0;32m      5\u001B[0m \u001B[1;33m\u001B[0m\u001B[0m\n",
      "\u001B[1;32mE:\\Anaconda\\lib\\site-packages\\torchvision\\datasets\\mnist.py\u001B[0m in \u001B[0;36m__init__\u001B[1;34m(self, root, train, transform, target_transform, download)\u001B[0m\n\u001B[0;32m     97\u001B[0m \u001B[1;33m\u001B[0m\u001B[0m\n\u001B[0;32m     98\u001B[0m         \u001B[1;32mif\u001B[0m \u001B[0mdownload\u001B[0m\u001B[1;33m:\u001B[0m\u001B[1;33m\u001B[0m\u001B[1;33m\u001B[0m\u001B[0m\n\u001B[1;32m---> 99\u001B[1;33m             \u001B[0mself\u001B[0m\u001B[1;33m.\u001B[0m\u001B[0mdownload\u001B[0m\u001B[1;33m(\u001B[0m\u001B[1;33m)\u001B[0m\u001B[1;33m\u001B[0m\u001B[1;33m\u001B[0m\u001B[0m\n\u001B[0m\u001B[0;32m    100\u001B[0m \u001B[1;33m\u001B[0m\u001B[0m\n\u001B[0;32m    101\u001B[0m         \u001B[1;32mif\u001B[0m \u001B[1;32mnot\u001B[0m \u001B[0mself\u001B[0m\u001B[1;33m.\u001B[0m\u001B[0m_check_exists\u001B[0m\u001B[1;33m(\u001B[0m\u001B[1;33m)\u001B[0m\u001B[1;33m:\u001B[0m\u001B[1;33m\u001B[0m\u001B[1;33m\u001B[0m\u001B[0m\n",
      "\u001B[1;32mE:\\Anaconda\\lib\\site-packages\\torchvision\\datasets\\mnist.py\u001B[0m in \u001B[0;36mdownload\u001B[1;34m(self)\u001B[0m\n\u001B[0;32m    185\u001B[0m                 \u001B[1;32mtry\u001B[0m\u001B[1;33m:\u001B[0m\u001B[1;33m\u001B[0m\u001B[1;33m\u001B[0m\u001B[0m\n\u001B[0;32m    186\u001B[0m                     \u001B[0mprint\u001B[0m\u001B[1;33m(\u001B[0m\u001B[1;34mf\"Downloading {url}\"\u001B[0m\u001B[1;33m)\u001B[0m\u001B[1;33m\u001B[0m\u001B[1;33m\u001B[0m\u001B[0m\n\u001B[1;32m--> 187\u001B[1;33m                     \u001B[0mdownload_and_extract_archive\u001B[0m\u001B[1;33m(\u001B[0m\u001B[0murl\u001B[0m\u001B[1;33m,\u001B[0m \u001B[0mdownload_root\u001B[0m\u001B[1;33m=\u001B[0m\u001B[0mself\u001B[0m\u001B[1;33m.\u001B[0m\u001B[0mraw_folder\u001B[0m\u001B[1;33m,\u001B[0m \u001B[0mfilename\u001B[0m\u001B[1;33m=\u001B[0m\u001B[0mfilename\u001B[0m\u001B[1;33m,\u001B[0m \u001B[0mmd5\u001B[0m\u001B[1;33m=\u001B[0m\u001B[0mmd5\u001B[0m\u001B[1;33m)\u001B[0m\u001B[1;33m\u001B[0m\u001B[1;33m\u001B[0m\u001B[0m\n\u001B[0m\u001B[0;32m    188\u001B[0m                 \u001B[1;32mexcept\u001B[0m \u001B[0mURLError\u001B[0m \u001B[1;32mas\u001B[0m \u001B[0merror\u001B[0m\u001B[1;33m:\u001B[0m\u001B[1;33m\u001B[0m\u001B[1;33m\u001B[0m\u001B[0m\n\u001B[0;32m    189\u001B[0m                     \u001B[0mprint\u001B[0m\u001B[1;33m(\u001B[0m\u001B[1;34mf\"Failed to download (trying next):\\n{error}\"\u001B[0m\u001B[1;33m)\u001B[0m\u001B[1;33m\u001B[0m\u001B[1;33m\u001B[0m\u001B[0m\n",
      "\u001B[1;32mE:\\Anaconda\\lib\\site-packages\\torchvision\\datasets\\utils.py\u001B[0m in \u001B[0;36mdownload_and_extract_archive\u001B[1;34m(url, download_root, extract_root, filename, md5, remove_finished)\u001B[0m\n\u001B[0;32m    428\u001B[0m         \u001B[0mfilename\u001B[0m \u001B[1;33m=\u001B[0m \u001B[0mos\u001B[0m\u001B[1;33m.\u001B[0m\u001B[0mpath\u001B[0m\u001B[1;33m.\u001B[0m\u001B[0mbasename\u001B[0m\u001B[1;33m(\u001B[0m\u001B[0murl\u001B[0m\u001B[1;33m)\u001B[0m\u001B[1;33m\u001B[0m\u001B[1;33m\u001B[0m\u001B[0m\n\u001B[0;32m    429\u001B[0m \u001B[1;33m\u001B[0m\u001B[0m\n\u001B[1;32m--> 430\u001B[1;33m     \u001B[0mdownload_url\u001B[0m\u001B[1;33m(\u001B[0m\u001B[0murl\u001B[0m\u001B[1;33m,\u001B[0m \u001B[0mdownload_root\u001B[0m\u001B[1;33m,\u001B[0m \u001B[0mfilename\u001B[0m\u001B[1;33m,\u001B[0m \u001B[0mmd5\u001B[0m\u001B[1;33m)\u001B[0m\u001B[1;33m\u001B[0m\u001B[1;33m\u001B[0m\u001B[0m\n\u001B[0m\u001B[0;32m    431\u001B[0m \u001B[1;33m\u001B[0m\u001B[0m\n\u001B[0;32m    432\u001B[0m     \u001B[0marchive\u001B[0m \u001B[1;33m=\u001B[0m \u001B[0mos\u001B[0m\u001B[1;33m.\u001B[0m\u001B[0mpath\u001B[0m\u001B[1;33m.\u001B[0m\u001B[0mjoin\u001B[0m\u001B[1;33m(\u001B[0m\u001B[0mdownload_root\u001B[0m\u001B[1;33m,\u001B[0m \u001B[0mfilename\u001B[0m\u001B[1;33m)\u001B[0m\u001B[1;33m\u001B[0m\u001B[1;33m\u001B[0m\u001B[0m\n",
      "\u001B[1;32mE:\\Anaconda\\lib\\site-packages\\torchvision\\datasets\\utils.py\u001B[0m in \u001B[0;36mdownload_url\u001B[1;34m(url, root, filename, md5, max_redirect_hops)\u001B[0m\n\u001B[0;32m    150\u001B[0m     \u001B[1;31m# check integrity of downloaded file\u001B[0m\u001B[1;33m\u001B[0m\u001B[1;33m\u001B[0m\u001B[1;33m\u001B[0m\u001B[0m\n\u001B[0;32m    151\u001B[0m     \u001B[1;32mif\u001B[0m \u001B[1;32mnot\u001B[0m \u001B[0mcheck_integrity\u001B[0m\u001B[1;33m(\u001B[0m\u001B[0mfpath\u001B[0m\u001B[1;33m,\u001B[0m \u001B[0mmd5\u001B[0m\u001B[1;33m)\u001B[0m\u001B[1;33m:\u001B[0m\u001B[1;33m\u001B[0m\u001B[1;33m\u001B[0m\u001B[0m\n\u001B[1;32m--> 152\u001B[1;33m         \u001B[1;32mraise\u001B[0m \u001B[0mRuntimeError\u001B[0m\u001B[1;33m(\u001B[0m\u001B[1;34m\"File not found or corrupted.\"\u001B[0m\u001B[1;33m)\u001B[0m\u001B[1;33m\u001B[0m\u001B[1;33m\u001B[0m\u001B[0m\n\u001B[0m\u001B[0;32m    153\u001B[0m \u001B[1;33m\u001B[0m\u001B[0m\n\u001B[0;32m    154\u001B[0m \u001B[1;33m\u001B[0m\u001B[0m\n",
      "\u001B[1;31mRuntimeError\u001B[0m: File not found or corrupted."
     ]
    }
   ],
   "source": [
    "mnist_train = torchvision.datasets.FashionMNIST(root='./datasets/FashionMNIST/', train=True,\n",
    "download=True, transform=transforms.ToTensor())\n",
    "mnist_test = torchvision.datasets.FashionMNIST(root='./datasets/FashionMNIST/', train=False,\n",
    "download=True, transform=transforms.ToTensor())"
   ]
  },
  {
   "cell_type": "code",
   "execution_count": 214,
   "metadata": {},
   "outputs": [
    {
     "data": {
      "text/plain": [
       "(Dataset FashionMNIST\n",
       "     Number of datapoints: 60000\n",
       "     Split: train\n",
       "     Root Location: ./Datasets/MNIST/\n",
       "     Transforms (if any): ToTensor()\n",
       "     Target Transforms (if any): None,\n",
       " Dataset FashionMNIST\n",
       "     Number of datapoints: 10000\n",
       "     Split: test\n",
       "     Root Location: ./Datasets/MNIST/\n",
       "     Transforms (if any): ToTensor()\n",
       "     Target Transforms (if any): None)"
      ]
     },
     "execution_count": 214,
     "metadata": {},
     "output_type": "execute_result"
    }
   ],
   "source": [
    "Num = mnist_train.data.shape[0]\n",
    "mnist_train, mnist_test"
   ]
  },
  {
   "cell_type": "code",
   "execution_count": 215,
   "metadata": {},
   "outputs": [],
   "source": [
    "train_iter = torch.utils.data.DataLoader(mnist_train, batch_size=batch_size, shuffle=True,\n",
    "num_workers=num_workers)\n",
    "test_iter = torch.utils.data.DataLoader(mnist_test, batch_size=batch_size, shuffle=False, \n",
    "num_workers=num_workers)"
   ]
  },
  {
   "cell_type": "markdown",
   "metadata": {},
   "source": [
    "## K折检验分数据"
   ]
  },
  {
   "cell_type": "code",
   "execution_count": 216,
   "metadata": {},
   "outputs": [],
   "source": [
    "# _X = torch.cat((mnist_train.data.float(), mnist_test.data.float()), dim=0)\n",
    "# _y = torch.cat((mnist_train.targets.long(), mnist_test.targets.long()), dim=0)\n",
    "# _X.shape, _y.shape"
   ]
  },
  {
   "cell_type": "code",
   "execution_count": 217,
   "metadata": {},
   "outputs": [],
   "source": [
    "# def get_kfold_data(k, i, X, y):\n",
    "#     # 返回第i + 1 折 (i = 0 -> k - 1) 交叉验证时所需要的训练和验证数据，X_train为训练集，X_test为验证集\n",
    "#     fold_size = X.shape[0] // k # 每份的个数：数据总条数/折数（组数）\n",
    "#     val_start = i * fold_size # 计算开始的索引\n",
    "#     if i != k - 1: # 不是最后一折\n",
    "#         val_end = (i + 1) * fold_size\n",
    "#         X_test, y_test = X[val_start:val_end], y[val_start:val_end]\n",
    "#         X_train = torch.cat((X[:val_start], X[val_end:]), dim=0)\n",
    "#         y_train = torch.cat((y[:val_start], y[val_end:]), dim=0)\n",
    "#     else: # 如果选择的是最后一折\n",
    "#         X_train, y_train = X[:val_start], y[:val_start]\n",
    "#         X_test, y_test = X[val_start:], y[val_start:]\n",
    "#     return X_train, X_test, y_train, y_test"
   ]
  },
  {
   "cell_type": "code",
   "execution_count": 218,
   "metadata": {},
   "outputs": [],
   "source": [
    "# X_train, X_test, y_train, y_test = get_kfold_data(10, 2, _X, _y)\n",
    "# X_train.shape, X_test.shape, y_train.shape, y_test.shape"
   ]
  },
  {
   "cell_type": "code",
   "execution_count": 219,
   "metadata": {},
   "outputs": [],
   "source": [
    "# m_train = torch.utils.data.TensorDataset(X_train, y_train)\n",
    "# m_test = torch.utils.data.TensorDataset(X_test, y_test)"
   ]
  },
  {
   "cell_type": "code",
   "execution_count": 220,
   "metadata": {},
   "outputs": [],
   "source": [
    "# train_iter = torch.utils.data.DataLoader(m_train, batch_size=batch_size, shuffle=True,\n",
    "# num_workers=num_workers)\n",
    "# test_iter = torch.utils.data.DataLoader(m_test, batch_size=batch_size, shuffle=False, \n",
    "# num_workers=num_workers)"
   ]
  },
  {
   "cell_type": "markdown",
   "metadata": {},
   "source": [
    "## 2 定义和初始化模型"
   ]
  },
  {
   "cell_type": "code",
   "execution_count": 221,
   "metadata": {},
   "outputs": [],
   "source": [
    "num_input = 784\n",
    "num_output = 10\n",
    "num_hidden = 512\n",
    "drop_prob = 0.2"
   ]
  },
  {
   "cell_type": "code",
   "execution_count": 237,
   "metadata": {},
   "outputs": [
    {
     "data": {
      "text/plain": [
       "<bound method Net_relu.forward of Net_relu(\n",
       "  (hidden): Linear(in_features=784, out_features=512, bias=True)\n",
       "  (flatten): Linear(in_features=512, out_features=10, bias=True)\n",
       "  (softmax): Softmax(dim=1)\n",
       "  (relu): ReLU()\n",
       "  (dropout): Dropout(p=0.2, inplace=False)\n",
       ")>"
      ]
     },
     "execution_count": 237,
     "metadata": {},
     "output_type": "execute_result"
    }
   ],
   "source": [
    "class Net_relu(nn.Module):\n",
    "    def __init__(self):\n",
    "        super(Net_relu, self).__init__()\n",
    "        self.hidden = nn.Linear(num_input, num_hidden)\n",
    "        self.flatten = nn.Linear(num_hidden, num_output)\n",
    "        self.softmax = nn.Softmax(dim=1)\n",
    "        self.relu = nn.ReLU()\n",
    "        self.dropout = nn.Dropout(p=drop_prob)\n",
    "\n",
    "    def forward(self, X):\n",
    "        layer1_output = self.relu(self.hidden(X.view(-1, num_input)))\n",
    "        hidden_output = self.dropout(layer1_output)\n",
    "        layer2_output = self.flatten(hidden_output)\n",
    "        return self.softmax(layer2_output)\n",
    "net_relu = Net_relu()\n",
    "net_relu.forward"
   ]
  },
  {
   "cell_type": "code",
   "execution_count": 238,
   "metadata": {},
   "outputs": [
    {
     "data": {
      "text/plain": [
       "Net_relu_addlayer(\n",
       "  (hidden1): Linear(in_features=784, out_features=256, bias=True)\n",
       "  (hidden2): Linear(in_features=256, out_features=64, bias=True)\n",
       "  (flatten): Linear(in_features=64, out_features=10, bias=True)\n",
       "  (softmax): Softmax(dim=1)\n",
       "  (relu): ReLU()\n",
       "  (dropout1): Dropout(p=0.05, inplace=False)\n",
       "  (dropout2): Dropout(p=0.1, inplace=False)\n",
       ")"
      ]
     },
     "execution_count": 238,
     "metadata": {},
     "output_type": "execute_result"
    }
   ],
   "source": [
    "num_hidden1 = 256\n",
    "num_hidden2 = 64\n",
    "drop_prob_group = [0.05, 0.1]\n",
    "class Net_relu_addlayer(nn.Module):\n",
    "    def __init__(self):\n",
    "        super(Net_relu_addlayer, self).__init__()\n",
    "        self.hidden1 = nn.Linear(num_input, num_hidden1)\n",
    "        self.hidden2 = nn.Linear(num_hidden1, num_hidden2)\n",
    "        self.flatten = nn.Linear(num_hidden2, num_output)\n",
    "        \n",
    "        self.softmax = nn.Softmax(dim=1)\n",
    "        self.relu = nn.ReLU()\n",
    "        self.dropout1 = nn.Dropout(p=drop_prob_group[0])\n",
    "        self.dropout2 = nn.Dropout(p=drop_prob_group[1])\n",
    "\n",
    "    def forward(self, X):\n",
    "        # 第一层\n",
    "        layer1_output = self.relu(self.hidden1(X.view(-1, num_input)))\n",
    "        hidden1_output = self.dropout1(layer1_output)\n",
    "        # 第二层\n",
    "        layer2_output = self.relu(self.hidden2(hidden1_output))\n",
    "        hidden2_output = self.dropout2(layer2_output)\n",
    "        # 输出层\n",
    "        layer3_output = self.flatten(hidden2_output)\n",
    "        return self.softmax(layer2_output)\n",
    "net = Net_relu_addlayer()\n",
    "net"
   ]
  },
  {
   "cell_type": "code",
   "execution_count": 224,
   "metadata": {},
   "outputs": [],
   "source": [
    "class Net_tanh(nn.Module):\n",
    "    def __init__(self):\n",
    "        super(Net_tanh, self).__init__()\n",
    "        self.hidden = nn.Linear(num_input, num_hidden)\n",
    "        self.flatten = nn.Linear(num_hidden, num_output)\n",
    "        self.softmax = nn.Softmax(dim=1)\n",
    "        self.tanh = nn.Tanh()\n",
    "        self.dropout = nn.Dropout(p=drop_prob)\n",
    "        \n",
    "    def forward(self, X):\n",
    "        layer1_output = self.tanh(self.hidden(X.view(-1, num_input)))\n",
    "        hidden_output = self.dropout(layer1_output)\n",
    "        layer2_output = self.flatten(hidden_output)\n",
    "        return self.softmax(layer2_output)\n",
    "    \n",
    "net_tanh = Net_tanh()"
   ]
  },
  {
   "cell_type": "code",
   "execution_count": 225,
   "metadata": {},
   "outputs": [],
   "source": [
    "class Net_ELU(nn.Module):\n",
    "    def __init__(self):\n",
    "        super(Net_ELU, self).__init__()\n",
    "        self.hidden = nn.Linear(num_input, num_hidden)\n",
    "        self.flatten = nn.Linear(num_hidden, num_output)\n",
    "        self.softmax = nn.Softmax(dim=1)\n",
    "        self.elu = nn.ELU()\n",
    "        self.dropout = nn.Dropout(p=drop_prob)\n",
    "\n",
    "    def forward(self, X):\n",
    "        layer1_output = self.elu(self.hidden(X.view(-1, num_input)))\n",
    "        hidden_output = self.dropout(layer1_output)\n",
    "        layer2_output = self.flatten(hidden_output)\n",
    "        return self.softmax(layer2_output)\n",
    "\n",
    "net_ELU = Net_ELU()"
   ]
  },
  {
   "cell_type": "code",
   "execution_count": 227,
   "metadata": {},
   "outputs": [],
   "source": [
    "# Net = Net_ELU()\n",
    "# Net = Net_tanh()\n",
    "from torch.nn import init\n",
    "\n",
    "# Net = Net_relu_addlayer() #废物网络\n",
    "Net = Net_relu()\n",
    "Net.train()\n",
    "for param in Net.parameters():\n",
    "    init.normal_(param, mean=0, std=0.01)"
   ]
  },
  {
   "cell_type": "markdown",
   "metadata": {},
   "source": [
    "## 3 定义损失函数"
   ]
  },
  {
   "cell_type": "code",
   "execution_count": 228,
   "metadata": {},
   "outputs": [],
   "source": [
    "loss = nn.CrossEntropyLoss()"
   ]
  },
  {
   "cell_type": "markdown",
   "metadata": {},
   "source": [
    "## 4 定义优化算法"
   ]
  },
  {
   "cell_type": "code",
   "execution_count": 229,
   "metadata": {},
   "outputs": [],
   "source": [
    "import torch.optim as optim\n",
    "optimizer = optim.SGD(params=Net.parameters(), lr=lr, weight_decay=lamda)"
   ]
  },
  {
   "cell_type": "markdown",
   "metadata": {},
   "source": [
    "## 5 评估系统"
   ]
  },
  {
   "cell_type": "code",
   "execution_count": 230,
   "metadata": {},
   "outputs": [],
   "source": [
    "def evaluate_accuracy(data_iter, net):\n",
    "    acc_sum, n = 0.0, 0\n",
    "    for X, y in data_iter:\n",
    "        net.eval()\n",
    "        acc_sum += (net(X).argmax(dim=1) == y).float().sum().item()\n",
    "        n += y.shape[0]\n",
    "        net.train()\n",
    "    return acc_sum / n"
   ]
  },
  {
   "cell_type": "code",
   "execution_count": 231,
   "metadata": {},
   "outputs": [
    {
     "data": {
      "text/plain": [
       "0.0969"
      ]
     },
     "execution_count": 231,
     "metadata": {},
     "output_type": "execute_result"
    }
   ],
   "source": [
    "evaluate_accuracy(train_iter, Net)"
   ]
  },
  {
   "cell_type": "code",
   "execution_count": 232,
   "metadata": {},
   "outputs": [],
   "source": [
    "def loss_evl(Iter, net, Datasets):\n",
    "    l = 0.0\n",
    "    for X, y in Iter:\n",
    "        # 验证loss的时候不需要drop\n",
    "        net.eval()\n",
    "        y_hat = net(X)\n",
    "        # 注意这里loss必须都是long型 而通过继承的softmax产生的结果是long型，只有自己准备的y需要转换\n",
    "        l += loss(y_hat, y).sum().item()\n",
    "        net.train()\n",
    "    return l / Datasets.data.shape[0]\n",
    "#     return l"
   ]
  },
  {
   "cell_type": "code",
   "execution_count": 233,
   "metadata": {},
   "outputs": [
    {
     "data": {
      "text/plain": [
       "0.05411596255302429"
      ]
     },
     "execution_count": 233,
     "metadata": {},
     "output_type": "execute_result"
    }
   ],
   "source": [
    "loss_evl(train_iter, Net, mnist_test)"
   ]
  },
  {
   "cell_type": "markdown",
   "metadata": {},
   "source": [
    "## 6 训练模型"
   ]
  },
  {
   "cell_type": "code",
   "execution_count": 234,
   "metadata": {},
   "outputs": [
    {
     "name": "stdout",
     "output_type": "stream",
     "text": [
      "epoch 1: train_loss: 0.008973 test_loss: 0.009165 \n",
      "epoch 2: train_loss: 0.008817 test_loss: 0.009005 \n",
      "epoch 3: train_loss: 0.008298 test_loss: 0.008472 \n",
      "epoch 4: train_loss: 0.007808 test_loss: 0.007975 \n",
      "epoch 5: train_loss: 0.007557 test_loss: 0.007720 \n",
      "epoch 6: train_loss: 0.007384 test_loss: 0.007545 \n",
      "epoch 7: train_loss: 0.007301 test_loss: 0.007460 \n",
      "epoch 8: train_loss: 0.007251 test_loss: 0.007409 \n",
      "epoch 9: train_loss: 0.007205 test_loss: 0.007361 \n",
      "epoch 10: train_loss: 0.007101 test_loss: 0.007265 \n",
      "epoch 11: train_loss: 0.007038 test_loss: 0.007207 \n",
      "epoch 12: train_loss: 0.006985 test_loss: 0.007154 \n",
      "epoch 13: train_loss: 0.006934 test_loss: 0.007103 \n",
      "epoch 14: train_loss: 0.006886 test_loss: 0.007051 \n",
      "epoch 15: train_loss: 0.006841 test_loss: 0.007004 \n",
      "epoch 16: train_loss: 0.006801 test_loss: 0.006964 \n",
      "epoch 17: train_loss: 0.006769 test_loss: 0.006931 \n",
      "epoch 18: train_loss: 0.006742 test_loss: 0.006902 \n",
      "epoch 19: train_loss: 0.006717 test_loss: 0.006880 \n",
      "epoch 20: train_loss: 0.006698 test_loss: 0.006859 \n",
      "epoch 21: train_loss: 0.006682 test_loss: 0.006843 \n",
      "epoch 22: train_loss: 0.006667 test_loss: 0.006828 \n",
      "epoch 23: train_loss: 0.006654 test_loss: 0.006815 \n",
      "epoch 24: train_loss: 0.006642 test_loss: 0.006804 \n",
      "epoch 25: train_loss: 0.006631 test_loss: 0.006793 \n"
     ]
    }
   ],
   "source": [
    "loss_train = []\n",
    "loss_test = []\n",
    "for epoch in range(num_epochs):\n",
    "    for X, y in train_iter:\n",
    "        y_hat = Net(X)\n",
    "        l = loss(y_hat, y).sum()\n",
    "        optimizer.zero_grad()\n",
    "        \n",
    "        l.backward()\n",
    "        optimizer.step()\n",
    "\n",
    "#     train_l = loss_evl(train_iter, Net, mnist_train)\n",
    "    train_l = loss_evl(train_iter, Net, mnist_train)\n",
    "    loss_train.append(train_l)\n",
    "    \n",
    "#     test_l = loss_evl(test_iter, Net, mnist_test)\n",
    "    test_l = loss_evl(test_iter, Net, mnist_test)\n",
    "    loss_test.append(test_l)\n",
    "    \n",
    "    print(\"epoch %d: train_loss: %f test_loss: %f \"%(epoch + 1, train_l, test_l))  "
   ]
  },
  {
   "cell_type": "code",
   "execution_count": 235,
   "metadata": {},
   "outputs": [
    {
     "data": {
      "text/plain": [
       "(0.7872666666666667, 0.7799)"
      ]
     },
     "execution_count": 235,
     "metadata": {},
     "output_type": "execute_result"
    }
   ],
   "source": [
    "evaluate_accuracy(train_iter, Net), evaluate_accuracy(test_iter, Net)"
   ]
  },
  {
   "cell_type": "code",
   "execution_count": 236,
   "metadata": {
    "scrolled": true
   },
   "outputs": [
    {
     "data": {
      "text/plain": [
       "<matplotlib.legend.Legend at 0x14f9e2c10>"
      ]
     },
     "execution_count": 236,
     "metadata": {},
     "output_type": "execute_result"
    },
    {
     "data": {
      "image/png": "[encoded data removed]",
      "text/plain": [
       "<Figure size 864x576 with 1 Axes>"
      ]
     },
     "metadata": {
      "needs_background": "light"
     },
     "output_type": "display_data"
    }
   ],
   "source": [
    "plt.figure(figsize=(12, 8))\n",
    "plt.title('Loss train/test')\n",
    "plt.plot(list(range(1, num_epochs + 1)), loss_train, c='b', label='train_loss')\n",
    "plt.plot(list(range(1, num_epochs + 1)), loss_test, c='r', label='test_loss')\n",
    "plt.legend(loc=1)"
   ]
  },
  {
   "cell_type": "markdown",
   "metadata": {},
   "source": [
    "## 特别实验"
   ]
  },
  {
   "cell_type": "code",
   "execution_count": null,
   "metadata": {},
   "outputs": [],
   "source": [
    "def plot(loss_train, loss_test, acc_train, acc_test, loc_idx):\n",
    "    plt.subplot(3, 2, loc_idx)\n",
    "    plt.title('Loss train/test')\n",
    "    plt.plot(list(range(1, num_epochs + 1)), loss_train, c='b', label='train_loss')\n",
    "    plt.plot(list(range(1, num_epochs + 1)), loss_test, c='r', label='test_loss')\n",
    "    plt.legend(loc=1)\n",
    "    plt.subplot(3, 2, loc_idx + 1)\n",
    "    plt.title('Accuracy train/test')\n",
    "    plt.plot(list(range(1, num_epochs + 1)), acc_train, c='b', label='acc_train')\n",
    "    plt.plot(list(range(1, num_epochs + 1)), acc_test, c='r', label='acc_test')\n",
    "    plt.legend(loc=1)"
   ]
  },
  {
   "cell_type": "code",
   "execution_count": 20,
   "metadata": {},
   "outputs": [
    {
     "name": "stdout",
     "output_type": "stream",
     "text": [
      "[ Net_relu(\n",
      "  (hidden): Linear(in_features=784, out_features=512, bias=True)\n",
      "  (flatten): Linear(in_features=512, out_features=10, bias=True)\n",
      "  (softmax): Softmax(dim=1)\n",
      "  (relu): ReLU()\n",
      "  (dropout): Dropout(p=0.5, inplace=False)\n",
      ") ]\n",
      "测试前的正确率: 0.068867\n",
      "[ Net_tanh(\n",
      "  (hidden): Linear(in_features=784, out_features=512, bias=True)\n",
      "  (flatten): Linear(in_features=512, out_features=10, bias=True)\n",
      "  (softmax): Softmax(dim=1)\n",
      "  (tanh): Tanh()\n",
      "  (dropout): Dropout(p=0.5, inplace=False)\n",
      ") ]\n",
      "测试前的正确率: 0.077083\n",
      "[ Net_ELU(\n",
      "  (hidden): Linear(in_features=784, out_features=512, bias=True)\n",
      "  (flatten): Linear(in_features=512, out_features=10, bias=True)\n",
      "  (softmax): Softmax(dim=1)\n",
      "  (elu): ELU(alpha=1.0)\n",
      "  (dropout): Dropout(p=0.5, inplace=False)\n",
      ") ]\n",
      "测试前的正确率: 0.083267\n"
     ]
    },
    {
     "data": {
      "image/png": "[encoded data removed]",
      "text/plain": [
       "<Figure size 432x288 with 6 Axes>"
      ]
     },
     "metadata": {
      "needs_background": "light"
     },
     "output_type": "display_data"
    }
   ],
   "source": [
    "net_group = [0, net_relu, 0, net_tanh, 0, net_ELU]\n",
    "for idx in [1, 3, 5]:\n",
    "    Net = net_group[idx]   \n",
    "    loss_train = []\n",
    "    loss_test = []\n",
    "    acc_train = []\n",
    "    acc_test = []\n",
    "    # 初始化\n",
    "    # 隐藏层参数\n",
    "    from torch.nn import init\n",
    "\n",
    "    for param in Net.parameters():\n",
    "        init.normal_(param, mean=0, std=0.01)\n",
    "        \n",
    "    import torch.optim as optim\n",
    "    optimizer = optim.SGD(params=Net.parameters(), lr=lr, weight_decay=lamda)\n",
    "    \n",
    "    print(\"[\", Net, \"]\")\n",
    "    print(\"测试前的正确率: %f\"%evaluate_accuracy(train_iter, Net))\n",
    "    for epoch in range(num_epochs):\n",
    "        Net.eval()\n",
    "        for X, y in train_iter:\n",
    "            y_hat = Net(X)\n",
    "            l = loss(y_hat, y).sum()\n",
    "            optimizer.zero_grad()\n",
    "\n",
    "            l.backward()\n",
    "            optimizer.step()\n",
    "\n",
    "        train_l = loss_evl(train_iter, Net, mnist_train)\n",
    "        loss_train.append(train_l)\n",
    "        train_acc = evaluate_accuracy(train_iter, Net)\n",
    "        acc_train.append(train_acc)\n",
    "        test_l = loss_evl(test_iter, Net, mnist_test)\n",
    "        loss_test.append(test_l)\n",
    "        test_acc = evaluate_accuracy(test_iter, Net)\n",
    "        acc_test.append(test_acc)\n",
    "    plot(loss_train, loss_test, acc_train, acc_test, idx)\n",
    "plt.tight_layout() "
   ]
  },
  {
   "cell_type": "code",
   "execution_count": 22,
   "metadata": {},
   "outputs": [
    {
     "data": {
      "text/plain": [
       "Net_ELU(\n",
       "  (hidden): Linear(in_features=784, out_features=512, bias=True)\n",
       "  (flatten): Linear(in_features=512, out_features=10, bias=True)\n",
       "  (softmax): Softmax(dim=1)\n",
       "  (elu): ELU(alpha=1.0)\n",
       "  (dropout): Dropout(p=0.5, inplace=False)\n",
       ")"
      ]
     },
     "execution_count": 22,
     "metadata": {},
     "output_type": "execute_result"
    }
   ],
   "source": [
    "Net"
   ]
  },
  {
   "cell_type": "code",
   "execution_count": null,
   "metadata": {},
   "outputs": [],
   "source": []
  }
 ],
 "metadata": {
  "kernelspec": {
   "display_name": "Python 3",
   "language": "python",
   "name": "python3"
  },
  "language_info": {
   "codemirror_mode": {
    "name": "ipython",
    "version": 3
   },
   "file_extension": ".py",
   "mimetype": "text/x-python",
   "name": "python",
   "nbconvert_exporter": "python",
   "pygments_lexer": "ipython3",
   "version": "3.7.4"
  }
 },
 "nbformat": 4,
 "nbformat_minor": 5
}