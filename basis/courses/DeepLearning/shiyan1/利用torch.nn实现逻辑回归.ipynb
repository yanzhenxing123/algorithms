{
 "cells": [
  {
   "cell_type": "markdown",
   "metadata": {
    "ExecuteTime": {
     "end_time": "2020-07-02T03:59:23.109670Z",
     "start_time": "2020-07-02T03:59:23.105078Z"
    }
   },
   "source": [
    "# 使用torch.nn实现逻辑回归"
   ]
  },
  {
   "cell_type": "code",
   "execution_count": 118,
   "metadata": {
    "ExecuteTime": {
     "end_time": "2020-07-02T05:12:04.775760Z",
     "start_time": "2020-07-02T05:12:04.769966Z"
    }
   },
   "outputs": [],
   "source": [
    "import torch\n",
    "import numpy as np\n",
    "import matplotlib.pyplot as plt"
   ]
  },
  {
   "cell_type": "markdown",
   "metadata": {},
   "source": [
    "## 1 人工构造数据集和读取数据"
   ]
  },
  {
   "cell_type": "code",
   "execution_count": 119,
   "metadata": {
    "ExecuteTime": {
     "end_time": "2020-07-02T05:12:05.237815Z",
     "start_time": "2020-07-02T05:12:05.231333Z"
    }
   },
   "outputs": [],
   "source": [
    "n_data = torch.ones(50, 2) # 数据的基本形态\n",
    "num_inputs = 2  # 特征维数\n",
    "x1 = torch.normal(2 * n_data, 1) # shape=(50, 2)\n",
    "y1 = torch.zeros(50) # 类型0 shape=(50, 1)\n",
    "x2 = torch.normal(-2 * n_data, 1) # 类型1 shape=(50, 2)\n",
    "y2 = torch.ones(50) # 类型1 shape=(50, 1)\n",
    "# 注意 x, y 数据的数据形式是一定要像下面一样 (torch.cat 是在合并数据)\n",
    "# 将数据分为训练集和验证集 20%为验证集\n",
    "X_train = torch.cat((x1[10:], x2[10:]), 0).type(torch.FloatTensor)\n",
    "y_train = torch.cat((y1[10:], y2[10:]), 0).type(torch.FloatTensor)\n",
    "# 验证集\n",
    "X_test = torch.cat((x1[:10], x2[:10]), 0).type(torch.FloatTensor)\n",
    "y_test = torch.cat((y1[:10], y2[:10]), 0).type(torch.FloatTensor)"
   ]
  },
  {
   "cell_type": "code",
   "execution_count": 120,
   "metadata": {
    "ExecuteTime": {
     "end_time": "2020-07-02T05:12:05.563551Z",
     "start_time": "2020-07-02T05:12:05.378559Z"
    }
   },
   "outputs": [
    {
     "data": {
      "image/png": "[encoded data removed]",
      "text/plain": [
       "<Figure size 432x288 with 1 Axes>"
      ]
     },
     "metadata": {
      "needs_background": "light"
     },
     "output_type": "display_data"
    }
   ],
   "source": [
    "plt.scatter(X_train.data.numpy()[:, 0], X_train.data.numpy()[:, 1], c=y_train.data.numpy(), s=50, cmap='RdYlGn')\n",
    "plt.show()"
   ]
  },
  {
   "cell_type": "code",
   "execution_count": 121,
   "metadata": {},
   "outputs": [],
   "source": [
    "import torch.utils.data as Data\n",
    "import torch.nn as nn\n",
    "batch_size = 40\n",
    "# 将训练数据的特征和标签组合\n",
    "dataset = Data.TensorDataset(X_train, y_train)\n",
    "# 把dataset 放入 DataLoader\n",
    "data_iter = Data.DataLoader(\n",
    "    dataset = dataset,\n",
    "    batch_size = batch_size,\n",
    "    shuffle = True,\n",
    "    num_workers=2)"
   ]
  },
  {
   "cell_type": "markdown",
   "metadata": {},
   "source": [
    "## 2 定义模型"
   ]
  },
  {
   "cell_type": "code",
   "execution_count": 122,
   "metadata": {
    "ExecuteTime": {
     "end_time": "2020-07-02T05:12:06.219062Z",
     "start_time": "2020-07-02T05:12:06.209024Z"
    }
   },
   "outputs": [],
   "source": [
    "class LogicalNet(nn.Module):\n",
    "    def __init__(self, n_feature):\n",
    "        super(LogicalNet, self).__init__()\n",
    "        self.linear = nn.Linear(n_feature, 1)\n",
    "        \n",
    "    def forward(self, x):\n",
    "        return self.linear(x)\n",
    "\n",
    "net = LogicalNet(num_inputs)"
   ]
  },
  {
   "cell_type": "markdown",
   "metadata": {},
   "source": [
    "## 3 初始化模型参数、定义损失函数和优化器"
   ]
  },
  {
   "cell_type": "code",
   "execution_count": 123,
   "metadata": {
    "ExecuteTime": {
     "end_time": "2020-07-02T05:12:07.193510Z",
     "start_time": "2020-07-02T05:12:07.186947Z"
    }
   },
   "outputs": [],
   "source": [
    "# 初始化模型参数\n",
    "from torch.nn import init\n",
    "\n",
    "init.normal_(net.linear.weight.data, mean=0, std=0.01)\n",
    "init.constant_(net.linear.bias.data, val=0)\n",
    "# 定义损失函数\n",
    "loss = nn.BCEWithLogitsLoss()\n",
    "# 定义优化器\n",
    "import torch.optim as optim\n",
    "optimizer = optim.SGD(net.parameters(), lr=0.01, momentum=0.9)"
   ]
  },
  {
   "cell_type": "markdown",
   "metadata": {},
   "source": [
    "## 4 训练模型"
   ]
  },
  {
   "cell_type": "code",
   "execution_count": 124,
   "metadata": {
    "ExecuteTime": {
     "end_time": "2020-07-02T05:12:08.458013Z",
     "start_time": "2020-07-02T05:12:07.929910Z"
    },
    "scrolled": false
   },
   "outputs": [
    {
     "name": "stdout",
     "output_type": "stream",
     "text": [
      "epoch 1, loss:0.669376\n",
      "epoch 2, loss:0.590916\n",
      "epoch 3, loss:0.473173\n",
      "epoch 4, loss:0.363123\n",
      "epoch 5, loss:0.267343\n",
      "epoch 6, loss:0.239592\n",
      "epoch 7, loss:0.188870\n",
      "epoch 8, loss:0.156634\n",
      "epoch 9, loss:0.107764\n",
      "epoch 10, loss:0.118748\n",
      "epoch 11, loss:0.105710\n",
      "epoch 12, loss:0.087456\n",
      "epoch 13, loss:0.084042\n",
      "epoch 14, loss:0.070897\n",
      "epoch 15, loss:0.060473\n",
      "epoch 16, loss:0.055923\n",
      "epoch 17, loss:0.047537\n",
      "epoch 18, loss:0.051063\n",
      "epoch 19, loss:0.042226\n",
      "epoch 20, loss:0.058939\n",
      "epoch 21, loss:0.048003\n",
      "epoch 22, loss:0.061498\n",
      "epoch 23, loss:0.055762\n",
      "epoch 24, loss:0.045180\n",
      "epoch 25, loss:0.043605\n",
      "epoch 26, loss:0.042828\n",
      "epoch 27, loss:0.034757\n",
      "epoch 28, loss:0.052496\n",
      "epoch 29, loss:0.036281\n",
      "epoch 30, loss:0.044508\n"
     ]
    }
   ],
   "source": [
    "num_epochs = 30\n",
    "loss_train = []\n",
    "loss_test = []\n",
    "acc_train = []\n",
    "acc_test = []\n",
    "for epoch in range(1, num_epochs + 1):\n",
    "    for X, y in data_iter:\n",
    "        output = net(X)\n",
    "        l = loss(output, y.view(output.size()))\n",
    "        net.zero_grad()  # 梯度清零\n",
    "        l.backward()\n",
    "        optimizer.step()\n",
    "    print('epoch %d, loss:%f'%(epoch, l.item()))\n",
    "    loss_train.append(l.item())\n",
    "    loss_test.append(loss(net(X_test), y_test.view(net(X_test).size())).item())\n",
    "    \n",
    "    acc_train.append((net(X_train).ge(0.5).float() == y_train.view(net(X_train).size())).float().mean().item())\n",
    "    acc_test.append((net(X_test).ge(0.5).float() == y_test.view(net(X_test).size())).float().mean().item())"
   ]
  },
  {
   "cell_type": "markdown",
   "metadata": {},
   "source": [
    "## 5 结果可视化"
   ]
  },
  {
   "cell_type": "code",
   "execution_count": 125,
   "metadata": {
    "ExecuteTime": {
     "end_time": "2020-07-02T05:13:02.972392Z",
     "start_time": "2020-07-02T05:13:02.762770Z"
    }
   },
   "outputs": [
    {
     "data": {
      "image/png": "[encoded data removed]",
      "text/plain": [
       "<Figure size 432x288 with 2 Axes>"
      ]
     },
     "metadata": {
      "needs_background": "light"
     },
     "output_type": "display_data"
    }
   ],
   "source": [
    "Res = net(X).ge(0.5).float()\n",
    "plt.subplot(1, 2, 1)\n",
    "plt.scatter(X.data.numpy()[:, 0], X.data.numpy()[:, 1], c=Res, s=50, cmap='RdYlGn')\n",
    "plt.title('my work')\n",
    "plt.subplot(1, 2, 2)\n",
    "plt.scatter(X.data.numpy()[:, 0], X.data.numpy()[:, 1], c=y.data.numpy(), s=50, cmap='RdYlGn')\n",
    "plt.title('Origin')\n",
    "plt.show()"
   ]
  },
  {
   "cell_type": "code",
   "execution_count": 126,
   "metadata": {},
   "outputs": [
    {
     "data": {
      "text/plain": [
       "Text(0.5, 1.0, 'acc_test')"
      ]
     },
     "execution_count": 126,
     "metadata": {},
     "output_type": "execute_result"
    },
    {
     "data": {
      "image/png": "[encoded data removed]",
      "text/plain": [
       "<Figure size 432x288 with 4 Axes>"
      ]
     },
     "metadata": {
      "needs_background": "light"
     },
     "output_type": "display_data"
    }
   ],
   "source": [
    "plt.subplot(3,3,1)\n",
    "plt.plot(range(num_epochs), loss_train)\n",
    "plt.title('loss_train')\n",
    "plt.subplot(3,3,3)\n",
    "plt.plot(range(num_epochs), loss_test)\n",
    "plt.title('loss_test')\n",
    "plt.subplot(3,3,7)\n",
    "plt.plot(range(num_epochs), acc_train)\n",
    "plt.title('acc_train')\n",
    "plt.subplot(3,3,9)\n",
    "plt.plot(range(num_epochs), acc_test)\n",
    "plt.title('acc_test')"
   ]
  },
  {
   "cell_type": "code",
   "execution_count": null,
   "metadata": {},
   "outputs": [],
   "source": []
  }
 ],
 "metadata": {
  "kernelspec": {
   "display_name": "Python 3 (ipykernel)",
   "language": "python",
   "name": "python3"
  },
  "language_info": {
   "codemirror_mode": {
    "name": "ipython",
    "version": 3
   },
   "file_extension": ".py",
   "mimetype": "text/x-python",
   "name": "python",
   "nbconvert_exporter": "python",
   "pygments_lexer": "ipython3",
   "version": "3.9.6"
  },
  "toc": {
   "base_numbering": 1,
   "nav_menu": {},
   "number_sections": false,
   "sideBar": true,
   "skip_h1_title": true,
   "title_cell": "Table of Contents",
   "title_sidebar": "Contents",
   "toc_cell": false,
   "toc_position": {},
   "toc_section_display": true,
   "toc_window_display": false
  },
  "varInspector": {
   "cols": {
    "lenName": 16,
    "lenType": 16,
    "lenVar": 40
   },
   "kernels_config": {
    "python": {
     "delete_cmd_postfix": "",
     "delete_cmd_prefix": "del ",
     "library": "var_list.py",
     "varRefreshCmd": "print(var_dic_list())"
    },
    "r": {
     "delete_cmd_postfix": ") ",
     "delete_cmd_prefix": "rm(",
     "library": "var_list.r",
     "varRefreshCmd": "cat(var_dic_list()) "
    }
   },
   "types_to_exclude": [
    "module",
    "function",
    "builtin_function_or_method",
    "instance",
    "_Feature"
   ],
   "window_display": false
  }
 },
 "nbformat": 4,
 "nbformat_minor": 2
}
