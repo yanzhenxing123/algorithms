{
 "cells": [
  {
   "cell_type": "markdown",
   "metadata": {},
   "source": [
    "# softmax回归从零开始实现"
   ]
  },
  {
   "cell_type": "code",
   "execution_count": 658,
   "metadata": {
    "ExecuteTime": {
     "end_time": "2020-07-02T04:48:49.484212Z",
     "start_time": "2020-07-02T04:48:49.475421Z"
    }
   },
   "outputs": [],
   "source": [
    "import torch\n",
    "import numpy as np\n",
    "import torchvision\n",
    "import torchvision.transforms as transforms\n",
    "import matplotlib.pyplot as plt\n",
    "batch_size = 256\n",
    "num_workers = 2\n",
    "lr = 0.01\n",
    "num_epochs = 30"
   ]
  },
  {
   "cell_type": "markdown",
   "metadata": {},
   "source": [
    "## 1 获取和读取数据"
   ]
  },
  {
   "cell_type": "code",
   "execution_count": 659,
   "metadata": {
    "ExecuteTime": {
     "end_time": "2020-07-02T04:48:52.048474Z",
     "start_time": "2020-07-02T04:48:52.034766Z"
    }
   },
   "outputs": [],
   "source": [
    "mnist_train = torchvision.datasets.FashionMNIST(root='~/Datasets/fashion', train=True, \n",
    "download=True, transform=transforms.ToTensor())\n",
    "mnist_test = torchvision.datasets.FashionMNIST(root='~/Datasets/fashion', train=False, \n",
    "download=True, transform=transforms.ToTensor())"
   ]
  },
  {
   "cell_type": "code",
   "execution_count": 660,
   "metadata": {
    "ExecuteTime": {
     "end_time": "2020-07-02T03:36:10.427627Z",
     "start_time": "2020-07-02T03:36:10.422244Z"
    }
   },
   "outputs": [
    {
     "data": {
      "text/plain": [
       "(Dataset FashionMNIST\n",
       "     Number of datapoints: 60000\n",
       "     Split: train\n",
       "     Root Location: /Users/panyuchen/Datasets/fashion\n",
       "     Transforms (if any): ToTensor()\n",
       "     Target Transforms (if any): None,\n",
       " Dataset FashionMNIST\n",
       "     Number of datapoints: 10000\n",
       "     Split: test\n",
       "     Root Location: /Users/panyuchen/Datasets/fashion\n",
       "     Transforms (if any): ToTensor()\n",
       "     Target Transforms (if any): None)"
      ]
     },
     "execution_count": 660,
     "metadata": {},
     "output_type": "execute_result"
    }
   ],
   "source": [
    "Num = mnist_train.data.shape[0]\n",
    "mnist_train, mnist_test"
   ]
  },
  {
   "cell_type": "code",
   "execution_count": 661,
   "metadata": {
    "ExecuteTime": {
     "end_time": "2020-07-02T03:42:31.312402Z",
     "start_time": "2020-07-02T03:42:30.667083Z"
    }
   },
   "outputs": [],
   "source": [
    "train_iter = torch.utils.data.DataLoader(mnist_train, batch_size=batch_size, shuffle=True,\n",
    "num_workers=num_workers)\n",
    "test_iter = torch.utils.data.DataLoader(mnist_test, batch_size=batch_size, shuffle=False, \n",
    "num_workers=num_workers)"
   ]
  },
  {
   "cell_type": "markdown",
   "metadata": {},
   "source": [
    "## 2 初始化模型参数"
   ]
  },
  {
   "cell_type": "code",
   "execution_count": 662,
   "metadata": {
    "ExecuteTime": {
     "end_time": "2020-07-02T04:48:57.298725Z",
     "start_time": "2020-07-02T04:48:57.290435Z"
    }
   },
   "outputs": [
    {
     "data": {
      "text/plain": [
       "(tensor([[-0.0130, -0.0065, -0.0015,  ..., -0.0143, -0.0265,  0.0047],\n",
       "         [-0.0190, -0.0066,  0.0137,  ..., -0.0159,  0.0007, -0.0003],\n",
       "         [-0.0044, -0.0036,  0.0089,  ...,  0.0114,  0.0240, -0.0040],\n",
       "         ...,\n",
       "         [-0.0192, -0.0038,  0.0085,  ...,  0.0036,  0.0127, -0.0185],\n",
       "         [ 0.0030,  0.0107,  0.0154,  ...,  0.0168, -0.0139, -0.0037],\n",
       "         [-0.0149, -0.0026,  0.0092,  ...,  0.0157, -0.0088,  0.0134]],\n",
       "        requires_grad=True),\n",
       " tensor([0., 0., 0., 0., 0., 0., 0., 0., 0., 0.], requires_grad=True))"
      ]
     },
     "execution_count": 662,
     "metadata": {},
     "output_type": "execute_result"
    }
   ],
   "source": [
    "num_input = 784\n",
    "num_output = 10\n",
    "\n",
    "w = torch.tensor(np.random.normal(0, 0.01, (num_output, num_input)), dtype=torch.float32, requires_grad=True)\n",
    "b = torch.zeros(num_output, dtype=torch.float32, requires_grad=True)\n",
    "w, b"
   ]
  },
  {
   "cell_type": "markdown",
   "metadata": {},
   "source": [
    "## 3 实现softmax运算"
   ]
  },
  {
   "cell_type": "code",
   "execution_count": 663,
   "metadata": {
    "ExecuteTime": {
     "end_time": "2020-07-02T04:49:14.106915Z",
     "start_time": "2020-07-02T04:49:14.101609Z"
    }
   },
   "outputs": [
    {
     "data": {
      "text/plain": [
       "(tensor([[0.0152, 0.8310, 0.0414, 0.1125]]), torch.Size([1, 4]), tensor([1]))"
      ]
     },
     "execution_count": 663,
     "metadata": {},
     "output_type": "execute_result"
    }
   ],
   "source": [
    "def softmax(x):\n",
    "    x_exp = torch.exp(x)\n",
    "    x_sum = x_exp.sum()\n",
    "    return x_exp / x_sum\n",
    "x = torch.tensor([[1, 5, 2, 3]], dtype=torch.float32)\n",
    "y = torch.tensor([1])\n",
    "softmax(x), x.shape, y"
   ]
  },
  {
   "cell_type": "markdown",
   "metadata": {},
   "source": [
    "## 4 定义模型"
   ]
  },
  {
   "cell_type": "code",
   "execution_count": 664,
   "metadata": {
    "ExecuteTime": {
     "end_time": "2020-07-02T04:49:19.831978Z",
     "start_time": "2020-07-02T04:49:19.825974Z"
    }
   },
   "outputs": [],
   "source": [
    "def linreg(X):\n",
    "    return torch.mm(X.view((-1, num_input)), w.T) + b"
   ]
  },
  {
   "cell_type": "code",
   "execution_count": 665,
   "metadata": {},
   "outputs": [],
   "source": [
    "def net(X):\n",
    "    features = linreg(X)\n",
    "    return softmax(features)"
   ]
  },
  {
   "cell_type": "markdown",
   "metadata": {},
   "source": [
    "## 5 定义损失函数"
   ]
  },
  {
   "cell_type": "code",
   "execution_count": 666,
   "metadata": {
    "ExecuteTime": {
     "end_time": "2020-07-02T04:49:22.499971Z",
     "start_time": "2020-07-02T04:49:22.460561Z"
    }
   },
   "outputs": [],
   "source": [
    "def Cross_entropy_loss(y_hat, y):\n",
    "    return -torch.log(y_hat.gather(1, y.view(-1, 1)))"
   ]
  },
  {
   "cell_type": "markdown",
   "metadata": {},
   "source": [
    "## 6 定义优化算法"
   ]
  },
  {
   "cell_type": "code",
   "execution_count": 667,
   "metadata": {
    "ExecuteTime": {
     "end_time": "2020-07-02T04:49:22.972437Z",
     "start_time": "2020-07-02T04:49:22.967911Z"
    }
   },
   "outputs": [],
   "source": [
    "def sgd(params, lr, batch_size):\n",
    "    for param in params:\n",
    "        param.data -= lr * param.grad / batch_size"
   ]
  },
  {
   "cell_type": "markdown",
   "metadata": {},
   "source": [
    "## 7 计算分类准确率"
   ]
  },
  {
   "cell_type": "code",
   "execution_count": 668,
   "metadata": {
    "ExecuteTime": {
     "end_time": "2020-07-02T04:49:25.077303Z",
     "start_time": "2020-07-02T04:49:25.071548Z"
    }
   },
   "outputs": [],
   "source": [
    "def accuracy_n(y_hat, y): \n",
    "    return (y_hat.argmax(dim=1) == y).float().sum().item()"
   ]
  },
  {
   "cell_type": "code",
   "execution_count": 669,
   "metadata": {
    "ExecuteTime": {
     "end_time": "2020-07-02T04:49:25.724639Z",
     "start_time": "2020-07-02T04:49:25.718931Z"
    }
   },
   "outputs": [],
   "source": [
    "def evaluate_accuracy(data_iter, net):\n",
    "    acc_sum, n = 0.0, 0\n",
    "    for X, y in data_iter:\n",
    "        acc_sum += (net(X).argmax(dim=1) == y).float().sum().item()\n",
    "        n += y.shape[0]\n",
    "    return acc_sum / n"
   ]
  },
  {
   "cell_type": "code",
   "execution_count": 670,
   "metadata": {},
   "outputs": [
    {
     "data": {
      "text/plain": [
       "0.106"
      ]
     },
     "execution_count": 670,
     "metadata": {},
     "output_type": "execute_result"
    }
   ],
   "source": [
    "evaluate_accuracy(test_iter, net)"
   ]
  },
  {
   "cell_type": "markdown",
   "metadata": {},
   "source": [
    "## 8 训练模型"
   ]
  },
  {
   "cell_type": "code",
   "execution_count": 671,
   "metadata": {
    "ExecuteTime": {
     "end_time": "2020-07-02T04:50:32.003132Z",
     "start_time": "2020-07-02T04:50:02.011402Z"
    }
   },
   "outputs": [
    {
     "name": "stdout",
     "output_type": "stream",
     "text": [
      "epoch: 1 loss: 6.952 train_acc: 0.646 test_acc: 0.683\n",
      "epoch: 2 loss: 6.570 train_acc: 0.726 test_acc: 0.732\n",
      "epoch: 3 loss: 6.476 train_acc: 0.757 test_acc: 0.751\n",
      "epoch: 4 loss: 6.424 train_acc: 0.774 test_acc: 0.765\n",
      "epoch: 5 loss: 6.390 train_acc: 0.783 test_acc: 0.776\n",
      "epoch: 6 loss: 6.364 train_acc: 0.791 test_acc: 0.781\n",
      "epoch: 7 loss: 6.344 train_acc: 0.797 test_acc: 0.784\n",
      "epoch: 8 loss: 6.328 train_acc: 0.801 test_acc: 0.788\n",
      "epoch: 9 loss: 6.315 train_acc: 0.804 test_acc: 0.795\n",
      "epoch: 10 loss: 6.303 train_acc: 0.808 test_acc: 0.798\n",
      "epoch: 11 loss: 6.293 train_acc: 0.810 test_acc: 0.799\n",
      "epoch: 12 loss: 6.284 train_acc: 0.812 test_acc: 0.802\n",
      "epoch: 13 loss: 6.277 train_acc: 0.815 test_acc: 0.804\n",
      "epoch: 14 loss: 6.269 train_acc: 0.817 test_acc: 0.806\n",
      "epoch: 15 loss: 6.263 train_acc: 0.818 test_acc: 0.807\n",
      "epoch: 16 loss: 6.257 train_acc: 0.820 test_acc: 0.809\n",
      "epoch: 17 loss: 6.252 train_acc: 0.821 test_acc: 0.809\n",
      "epoch: 18 loss: 6.247 train_acc: 0.823 test_acc: 0.811\n",
      "epoch: 19 loss: 6.243 train_acc: 0.824 test_acc: 0.813\n",
      "epoch: 20 loss: 6.239 train_acc: 0.824 test_acc: 0.815\n",
      "epoch: 21 loss: 6.235 train_acc: 0.825 test_acc: 0.815\n",
      "epoch: 22 loss: 6.231 train_acc: 0.826 test_acc: 0.815\n",
      "epoch: 23 loss: 6.228 train_acc: 0.827 test_acc: 0.816\n",
      "epoch: 24 loss: 6.225 train_acc: 0.828 test_acc: 0.815\n",
      "epoch: 25 loss: 6.222 train_acc: 0.828 test_acc: 0.816\n",
      "epoch: 26 loss: 6.219 train_acc: 0.829 test_acc: 0.816\n",
      "epoch: 27 loss: 6.217 train_acc: 0.830 test_acc: 0.816\n",
      "epoch: 28 loss: 6.214 train_acc: 0.829 test_acc: 0.818\n",
      "epoch: 29 loss: 6.212 train_acc: 0.831 test_acc: 0.820\n",
      "epoch: 30 loss: 6.210 train_acc: 0.831 test_acc: 0.821\n"
     ]
    }
   ],
   "source": [
    "loss_train = []\n",
    "loss_test = []\n",
    "acc_train = []\n",
    "acc_test = []\n",
    "for epoch in range(num_epochs):\n",
    "    train_l_sum, train_acc_sum, n = 0.0, 0.0, 0\n",
    "    for X, y in train_iter:\n",
    "        y_hat = net(X)\n",
    "        \n",
    "        loss = Cross_entropy_loss(y_hat, y).sum()\n",
    "        acc = accuracy(y_hat, y)\n",
    "        \n",
    "        loss.backward()\n",
    "        sgd([w, b], lr, batch_size)\n",
    "        \n",
    "        w.grad.data.zero_()\n",
    "        b.grad.data.zero_()\n",
    "        \n",
    "        train_l_sum += loss.item()\n",
    "        train_acc_sum += accuracy_n(y_hat, y)\n",
    "        n += 1\n",
    "    \n",
    "    train_l = (train_l_sum / Num)\n",
    "    loss_train.append(train_l)\n",
    "    \n",
    "    train_acc = (train_acc_sum / Num)\n",
    "    acc_train.append(train_acc)\n",
    "    \n",
    "    test_acc = evaluate_accuracy(test_iter, net)\n",
    "    acc_test.append(test_acc)\n",
    "    print(\"epoch: %d loss: %.3f train_acc: %.3f test_acc: %.3f\"%(epoch + 1, train_l, train_acc, test_acc))\n",
    "    "
   ]
  },
  {
   "cell_type": "markdown",
   "metadata": {},
   "source": [
    "## 9 预测"
   ]
  },
  {
   "cell_type": "code",
   "execution_count": 672,
   "metadata": {},
   "outputs": [
    {
     "data": {
      "text/plain": [
       "Text(0.5, 1.0, 'acc_test')"
      ]
     },
     "execution_count": 672,
     "metadata": {},
     "output_type": "execute_result"
    },
    {
     "data": {
      "image/png": "[encoded data removed]",
      "text/plain": [
       "<Figure size 432x288 with 3 Axes>"
      ]
     },
     "metadata": {
      "needs_background": "light"
     },
     "output_type": "display_data"
    }
   ],
   "source": [
    "plt.subplot(3,3,2)\n",
    "plt.plot(range(num_epochs), loss_train)\n",
    "plt.title('loss_train')\n",
    "plt.subplot(3,3,7)\n",
    "plt.plot(range(num_epochs), acc_train)\n",
    "plt.title('acc_train')\n",
    "plt.subplot(3,3,9)\n",
    "plt.plot(range(num_epochs), acc_test)\n",
    "plt.title('acc_test')"
   ]
  },
  {
   "cell_type": "code",
   "execution_count": 680,
   "metadata": {},
   "outputs": [
    {
     "name": "stdout",
     "output_type": "stream",
     "text": [
      "Pullover\n",
      "Pullover\n"
     ]
    },
    {
     "data": {
      "image/png": "[encoded data removed]",
      "text/plain": [
       "<Figure size 432x288 with 1 Axes>"
      ]
     },
     "metadata": {
      "needs_background": "light"
     },
     "output_type": "display_data"
    }
   ],
   "source": [
    "test_num = 10\n",
    "test_image = torch.utils.data.DataLoader(mnist_test, batch_size=test_num, shuffle=True, \n",
    "num_workers=num_workers)\n",
    "label = mnist_test.classes\n",
    "for X, y in test_image:\n",
    "    print(label[y[0]])\n",
    "    print(label[net(X).argmax(dim=1)[0]])\n",
    "    plt.imshow(X[0].view(28, 28))\n",
    "    break"
   ]
  },
  {
   "cell_type": "code",
   "execution_count": null,
   "metadata": {},
   "outputs": [],
   "source": []
  }
 ],
 "metadata": {
  "kernelspec": {
   "display_name": "Python 3 (ipykernel)",
   "language": "python",
   "name": "python3"
  },
  "language_info": {
   "codemirror_mode": {
    "name": "ipython",
    "version": 3
   },
   "file_extension": ".py",
   "mimetype": "text/x-python",
   "name": "python",
   "nbconvert_exporter": "python",
   "pygments_lexer": "ipython3",
   "version": "3.9.2"
  },
  "toc": {
   "base_numbering": 1,
   "nav_menu": {},
   "number_sections": false,
   "sideBar": true,
   "skip_h1_title": true,
   "title_cell": "Table of Contents",
   "title_sidebar": "Contents",
   "toc_cell": false,
   "toc_position": {},
   "toc_section_display": true,
   "toc_window_display": false
  },
  "varInspector": {
   "cols": {
    "lenName": 16,
    "lenType": 16,
    "lenVar": 40
   },
   "kernels_config": {
    "python": {
     "delete_cmd_postfix": "",
     "delete_cmd_prefix": "del ",
     "library": "var_list.py",
     "varRefreshCmd": "print(var_dic_list())"
    },
    "r": {
     "delete_cmd_postfix": ") ",
     "delete_cmd_prefix": "rm(",
     "library": "var_list.r",
     "varRefreshCmd": "cat(var_dic_list()) "
    }
   },
   "types_to_exclude": [
    "module",
    "function",
    "builtin_function_or_method",
    "instance",
    "_Feature"
   ],
   "window_display": false
  }
 },
 "nbformat": 4,
 "nbformat_minor": 2
}
