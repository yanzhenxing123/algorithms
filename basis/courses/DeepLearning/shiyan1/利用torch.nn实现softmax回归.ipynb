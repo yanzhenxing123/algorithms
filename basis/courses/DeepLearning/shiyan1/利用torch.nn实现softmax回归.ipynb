{
 "cells": [
  {
   "cell_type": "markdown",
   "metadata": {},
   "source": [
    "# 使用torch.nn实现softmax回归"
   ]
  },
  {
   "cell_type": "code",
   "execution_count": 35,
   "metadata": {
    "ExecuteTime": {
     "end_time": "2020-07-02T03:57:22.371413Z",
     "start_time": "2020-07-02T03:57:22.363443Z"
    }
   },
   "outputs": [],
   "source": [
    "import torch\n",
    "import torch.nn as nn\n",
    "import numpy as np\n",
    "import torchvision\n",
    "import torchvision.transforms as transforms\n",
    "import matplotlib.pyplot as plt\n",
    "batch_size = 256\n",
    "num_workers = 2\n",
    "lr = 0.01\n",
    "num_epochs = 30"
   ]
  },
  {
   "cell_type": "markdown",
   "metadata": {},
   "source": [
    "## 1 获取和读取数据"
   ]
  },
  {
   "cell_type": "code",
   "execution_count": 36,
   "metadata": {
    "ExecuteTime": {
     "end_time": "2020-07-02T03:57:22.907228Z",
     "start_time": "2020-07-02T03:57:22.891206Z"
    }
   },
   "outputs": [],
   "source": [
    "mnist_train = torchvision.datasets.FashionMNIST(root='~/Datasets/fashion', train=True, \n",
    "download=True, transform=transforms.ToTensor())\n",
    "mnist_test = torchvision.datasets.FashionMNIST(root='~/Datasets/fashion', train=False, \n",
    "download=True, transform=transforms.ToTensor())"
   ]
  },
  {
   "cell_type": "code",
   "execution_count": 37,
   "metadata": {
    "ExecuteTime": {
     "end_time": "2020-07-02T03:57:23.139222Z",
     "start_time": "2020-07-02T03:57:22.996914Z"
    }
   },
   "outputs": [
    {
     "data": {
      "text/plain": [
       "(Dataset FashionMNIST\n",
       "     Number of datapoints: 60000\n",
       "     Split: train\n",
       "     Root Location: /Users/panyuchen/Datasets/fashion\n",
       "     Transforms (if any): ToTensor()\n",
       "     Target Transforms (if any): None,\n",
       " Dataset FashionMNIST\n",
       "     Number of datapoints: 10000\n",
       "     Split: test\n",
       "     Root Location: /Users/panyuchen/Datasets/fashion\n",
       "     Transforms (if any): ToTensor()\n",
       "     Target Transforms (if any): None)"
      ]
     },
     "execution_count": 37,
     "metadata": {},
     "output_type": "execute_result"
    }
   ],
   "source": [
    "Num = mnist_train.data.shape[0]\n",
    "mnist_train, mnist_test"
   ]
  },
  {
   "cell_type": "code",
   "execution_count": 38,
   "metadata": {},
   "outputs": [],
   "source": [
    "train_iter = torch.utils.data.DataLoader(mnist_train, batch_size=batch_size, shuffle=True,\n",
    "num_workers=num_workers)\n",
    "test_iter = torch.utils.data.DataLoader(mnist_test, batch_size=batch_size, shuffle=False, \n",
    "num_workers=num_workers)"
   ]
  },
  {
   "cell_type": "markdown",
   "metadata": {},
   "source": [
    "## 2 定义和初始化模型"
   ]
  },
  {
   "cell_type": "code",
   "execution_count": 39,
   "metadata": {
    "ExecuteTime": {
     "end_time": "2020-07-02T03:58:06.413397Z",
     "start_time": "2020-07-02T03:58:06.403061Z"
    }
   },
   "outputs": [],
   "source": [
    "num_input = 784\n",
    "num_output = 10"
   ]
  },
  {
   "cell_type": "code",
   "execution_count": 40,
   "metadata": {
    "ExecuteTime": {
     "end_time": "2020-07-02T03:58:05.891741Z",
     "start_time": "2020-07-02T03:58:05.880054Z"
    }
   },
   "outputs": [
    {
     "data": {
      "text/plain": [
       "LinearNet(\n",
       "  (linear): Linear(in_features=784, out_features=10, bias=True)\n",
       ")"
      ]
     },
     "execution_count": 40,
     "metadata": {},
     "output_type": "execute_result"
    }
   ],
   "source": [
    "class LinearNet(nn.Module):\n",
    "    def __init__(self, n_input, n_output):\n",
    "        super(LinearNet, self).__init__()\n",
    "        self.linear = nn.Linear(n_input, n_output)\n",
    "\n",
    "    def forward(self, x):\n",
    "        return self.linear(x.view(-1, 784))\n",
    "\n",
    "Net = LinearNet(num_input, num_output)\n",
    "Net"
   ]
  },
  {
   "cell_type": "code",
   "execution_count": 41,
   "metadata": {},
   "outputs": [
    {
     "data": {
      "text/plain": [
       "tensor([0., 0., 0., 0., 0., 0., 0., 0., 0., 0.])"
      ]
     },
     "execution_count": 41,
     "metadata": {},
     "output_type": "execute_result"
    }
   ],
   "source": [
    "from torch.nn import init\n",
    "\n",
    "init.normal_(Net.linear.weight.data, mean=0, std=0.01)\n",
    "init.constant_(Net.linear.bias.data, val=0)"
   ]
  },
  {
   "cell_type": "markdown",
   "metadata": {},
   "source": [
    "## 3 softmax和交叉熵损失函数"
   ]
  },
  {
   "cell_type": "code",
   "execution_count": 42,
   "metadata": {
    "ExecuteTime": {
     "end_time": "2020-07-02T03:58:06.932454Z",
     "start_time": "2020-07-02T03:58:06.928147Z"
    }
   },
   "outputs": [],
   "source": [
    "loss = nn.CrossEntropyLoss()"
   ]
  },
  {
   "cell_type": "markdown",
   "metadata": {},
   "source": [
    "## 4 定义优化算法"
   ]
  },
  {
   "cell_type": "code",
   "execution_count": 43,
   "metadata": {
    "ExecuteTime": {
     "end_time": "2020-07-02T03:58:07.159110Z",
     "start_time": "2020-07-02T03:58:07.154569Z"
    }
   },
   "outputs": [],
   "source": [
    "import torch.optim as optim\n",
    "optimizer = optim.SGD(Net.parameters(), lr=lr)"
   ]
  },
  {
   "cell_type": "markdown",
   "metadata": {},
   "source": [
    "## 5 计算分类准确率"
   ]
  },
  {
   "cell_type": "code",
   "execution_count": 44,
   "metadata": {
    "ExecuteTime": {
     "end_time": "2020-07-02T03:58:07.467181Z",
     "start_time": "2020-07-02T03:58:07.460437Z"
    }
   },
   "outputs": [],
   "source": [
    "def accuracy_n(y_hat, y): \n",
    "    return (y_hat.argmax(dim=1) == y).float().sum().item()"
   ]
  },
  {
   "cell_type": "code",
   "execution_count": 45,
   "metadata": {},
   "outputs": [],
   "source": [
    "def evaluate_accuracy(data_iter, net):\n",
    "    acc_sum, n = 0.0, 0\n",
    "    for X, y in data_iter:\n",
    "        acc_sum += (net(X).argmax(dim=1) == y).float().sum().item()\n",
    "        n += y.shape[0]\n",
    "    return acc_sum / n"
   ]
  },
  {
   "cell_type": "markdown",
   "metadata": {},
   "source": [
    "## 6 训练模型"
   ]
  },
  {
   "cell_type": "code",
   "execution_count": 46,
   "metadata": {
    "ExecuteTime": {
     "end_time": "2020-07-02T03:58:07.991237Z",
     "start_time": "2020-07-02T03:58:07.981095Z"
    }
   },
   "outputs": [
    {
     "name": "stdout",
     "output_type": "stream",
     "text": [
      "epoch: 1 loss: 1.360 train_acc: 0.646 test_acc: 0.679\n",
      "epoch: 2 loss: 0.915 train_acc: 0.716 test_acc: 0.727\n",
      "epoch: 3 loss: 0.802 train_acc: 0.749 test_acc: 0.743\n",
      "epoch: 4 loss: 0.742 train_acc: 0.767 test_acc: 0.760\n",
      "epoch: 5 loss: 0.703 train_acc: 0.780 test_acc: 0.771\n",
      "epoch: 6 loss: 0.674 train_acc: 0.788 test_acc: 0.777\n",
      "epoch: 7 loss: 0.651 train_acc: 0.794 test_acc: 0.783\n",
      "epoch: 8 loss: 0.633 train_acc: 0.799 test_acc: 0.789\n",
      "epoch: 9 loss: 0.619 train_acc: 0.804 test_acc: 0.792\n",
      "epoch: 10 loss: 0.606 train_acc: 0.807 test_acc: 0.795\n",
      "epoch: 11 loss: 0.595 train_acc: 0.809 test_acc: 0.797\n",
      "epoch: 12 loss: 0.586 train_acc: 0.812 test_acc: 0.801\n",
      "epoch: 13 loss: 0.578 train_acc: 0.815 test_acc: 0.803\n",
      "epoch: 14 loss: 0.570 train_acc: 0.816 test_acc: 0.804\n",
      "epoch: 15 loss: 0.563 train_acc: 0.819 test_acc: 0.807\n",
      "epoch: 16 loss: 0.557 train_acc: 0.820 test_acc: 0.808\n",
      "epoch: 17 loss: 0.551 train_acc: 0.822 test_acc: 0.810\n",
      "epoch: 18 loss: 0.546 train_acc: 0.823 test_acc: 0.812\n",
      "epoch: 19 loss: 0.541 train_acc: 0.824 test_acc: 0.811\n",
      "epoch: 20 loss: 0.537 train_acc: 0.826 test_acc: 0.814\n",
      "epoch: 21 loss: 0.533 train_acc: 0.826 test_acc: 0.814\n",
      "epoch: 22 loss: 0.529 train_acc: 0.827 test_acc: 0.815\n",
      "epoch: 23 loss: 0.525 train_acc: 0.828 test_acc: 0.816\n",
      "epoch: 24 loss: 0.522 train_acc: 0.829 test_acc: 0.817\n",
      "epoch: 25 loss: 0.519 train_acc: 0.830 test_acc: 0.818\n",
      "epoch: 26 loss: 0.516 train_acc: 0.830 test_acc: 0.818\n",
      "epoch: 27 loss: 0.513 train_acc: 0.830 test_acc: 0.819\n",
      "epoch: 28 loss: 0.511 train_acc: 0.832 test_acc: 0.819\n",
      "epoch: 29 loss: 0.508 train_acc: 0.833 test_acc: 0.820\n",
      "epoch: 30 loss: 0.506 train_acc: 0.833 test_acc: 0.821\n"
     ]
    }
   ],
   "source": [
    "loss_train = []\n",
    "loss_test = []\n",
    "acc_train = []\n",
    "acc_test = []\n",
    "for epoch in range(1, num_epochs + 1):\n",
    "    train_l_sum, train_acc_sum, n = 0.0, 0.0, 0\n",
    "    for X, y in train_iter:\n",
    "        n += 1\n",
    "        y_hat = Net(X)\n",
    "        l = loss(y_hat, y)\n",
    "        optimizer.zero_grad() #梯度梯度清零 等价于net.zero_grad()\n",
    "        l.backward()\n",
    "        optimizer.step()\n",
    "        train_l_sum += l.item()\n",
    "        train_acc_sum += accuracy_n(y_hat, y)\n",
    "        \n",
    "    train_l = (train_l_sum / n)\n",
    "    loss_train.append(train_l)\n",
    "    \n",
    "    train_acc = (train_acc_sum / Num)\n",
    "    acc_train.append(train_acc)\n",
    "    \n",
    "    test_acc = evaluate_accuracy(test_iter, Net)\n",
    "    acc_test.append(test_acc)\n",
    "    print(\"epoch: %d loss: %.3f train_acc: %.3f test_acc: %.3f\"%(epoch, train_l, train_acc, test_acc))\n",
    "      "
   ]
  },
  {
   "cell_type": "code",
   "execution_count": 47,
   "metadata": {
    "ExecuteTime": {
     "end_time": "2020-07-02T03:58:32.501006Z",
     "start_time": "2020-07-02T03:58:08.001025Z"
    }
   },
   "outputs": [
    {
     "data": {
      "text/plain": [
       "Text(0.5, 1.0, 'acc_test')"
      ]
     },
     "execution_count": 47,
     "metadata": {},
     "output_type": "execute_result"
    },
    {
     "data": {
      "image/png": "[encoded data removed]",
      "text/plain": [
       "<Figure size 432x288 with 3 Axes>"
      ]
     },
     "metadata": {
      "needs_background": "light"
     },
     "output_type": "display_data"
    }
   ],
   "source": [
    "plt.subplot(3,3,2)\n",
    "plt.plot(range(num_epochs), loss_train)\n",
    "plt.title('loss_train')\n",
    "plt.subplot(3,3,7)\n",
    "plt.plot(range(num_epochs), acc_train)\n",
    "plt.title('acc_train')\n",
    "plt.subplot(3,3,9)\n",
    "plt.plot(range(num_epochs), acc_test)\n",
    "plt.title('acc_test')"
   ]
  },
  {
   "cell_type": "code",
   "execution_count": 54,
   "metadata": {},
   "outputs": [
    {
     "name": "stdout",
     "output_type": "stream",
     "text": [
      "Ankle boot\n",
      "Ankle boot\n"
     ]
    },
    {
     "data": {
      "image/png": "[encoded data removed]",
      "text/plain": [
       "<Figure size 432x288 with 1 Axes>"
      ]
     },
     "metadata": {
      "needs_background": "light"
     },
     "output_type": "display_data"
    }
   ],
   "source": [
    "test_num = 10\n",
    "test_image = torch.utils.data.DataLoader(mnist_test, batch_size=test_num, shuffle=True, \n",
    "num_workers=num_workers)\n",
    "label = mnist_test.classes\n",
    "for X, y in test_image:\n",
    "    print(label[y[0]])\n",
    "    print(label[Net(X).argmax(dim=1)[0]])\n",
    "    plt.imshow(X[0].view(28, 28))\n",
    "    break"
   ]
  },
  {
   "cell_type": "code",
   "execution_count": null,
   "metadata": {},
   "outputs": [],
   "source": []
  }
 ],
 "metadata": {
  "kernelspec": {
   "display_name": "Python 3 (ipykernel)",
   "language": "python",
   "name": "python3"
  },
  "language_info": {
   "codemirror_mode": {
    "name": "ipython",
    "version": 3
   },
   "file_extension": ".py",
   "mimetype": "text/x-python",
   "name": "python",
   "nbconvert_exporter": "python",
   "pygments_lexer": "ipython3",
   "version": "3.9.6"
  },
  "toc": {
   "base_numbering": 1,
   "nav_menu": {},
   "number_sections": false,
   "sideBar": true,
   "skip_h1_title": true,
   "title_cell": "Table of Contents",
   "title_sidebar": "Contents",
   "toc_cell": false,
   "toc_position": {},
   "toc_section_display": true,
   "toc_window_display": false
  },
  "varInspector": {
   "cols": {
    "lenName": 16,
    "lenType": 16,
    "lenVar": 40
   },
   "kernels_config": {
    "python": {
     "delete_cmd_postfix": "",
     "delete_cmd_prefix": "del ",
     "library": "var_list.py",
     "varRefreshCmd": "print(var_dic_list())"
    },
    "r": {
     "delete_cmd_postfix": ") ",
     "delete_cmd_prefix": "rm(",
     "library": "var_list.r",
     "varRefreshCmd": "cat(var_dic_list()) "
    }
   },
   "types_to_exclude": [
    "module",
    "function",
    "builtin_function_or_method",
    "instance",
    "_Feature"
   ],
   "window_display": false
  }
 },
 "nbformat": 4,
 "nbformat_minor": 2
}
