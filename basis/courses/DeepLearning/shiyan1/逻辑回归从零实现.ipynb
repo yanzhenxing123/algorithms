{
 "cells": [
  {
   "cell_type": "markdown",
   "metadata": {
    "ExecuteTime": {
     "end_time": "2020-07-02T03:59:23.109670Z",
     "start_time": "2020-07-02T03:59:23.105078Z"
    }
   },
   "source": [
    "# 逻辑回归从零开始实现"
   ]
  },
  {
   "cell_type": "code",
   "execution_count": 1,
   "metadata": {
    "ExecuteTime": {
     "end_time": "2020-07-02T05:17:03.119075Z",
     "start_time": "2020-07-02T05:17:03.113303Z"
    }
   },
   "outputs": [],
   "source": [
    "import torch\n",
    "import numpy as np\n",
    "import matplotlib.pyplot as plt"
   ]
  },
  {
   "cell_type": "markdown",
   "metadata": {},
   "source": [
    "## 1 人工构造数据集 以及读取数据"
   ]
  },
  {
   "cell_type": "code",
   "execution_count": 4,
   "metadata": {
    "ExecuteTime": {
     "end_time": "2020-07-02T05:17:40.198242Z",
     "start_time": "2020-07-02T05:17:40.187153Z"
    }
   },
   "outputs": [],
   "source": [
    "n_data = torch.ones(50, 2) # 数据的基本形态\n",
    "x1 = torch.normal(2 * n_data, 1) # shape=(50, 2)\n",
    "y1 = torch.zeros(50) # 类型0 shape=(50, 1)\n",
    "x2 = torch.normal(-2 * n_data, 1) # 类型1 shape=(50, 2)\n",
    "y2 = torch.ones(50) # 类型1 shape=(50, 1)\n",
    "# 注意 x, y 数据的数据形式是一定要像下面一样 (torch.cat 是在合并数据)\n",
    "# 将数据分为训练集和验证集 20%为验证集\n",
    "X_train = torch.cat((x1[10:], x2[10:]), 0).type(torch.FloatTensor)\n",
    "y_train = torch.cat((y1[10:], y2[10:]), 0).type(torch.FloatTensor)\n",
    "# 验证集\n",
    "X_test = torch.cat((x1[:10], x2[:10]), 0).type(torch.FloatTensor)\n",
    "y_test = torch.cat((y1[:10], y2[:10]), 0).type(torch.FloatTensor)"
   ]
  },
  {
   "cell_type": "code",
   "execution_count": 5,
   "metadata": {
    "ExecuteTime": {
     "end_time": "2020-07-02T05:17:40.523795Z",
     "start_time": "2020-07-02T05:17:40.305889Z"
    }
   },
   "outputs": [
    {
     "data": {
      "image/png": "[encoded data removed]",
      "text/plain": [
       "<Figure size 432x288 with 1 Axes>"
      ]
     },
     "metadata": {
      "needs_background": "light"
     },
     "output_type": "display_data"
    }
   ],
   "source": [
    "plt.scatter(X_train.data.numpy()[:, 0], X_train.data.numpy()[:, 1], c=y_train.data.numpy(), s=50, cmap='RdYlGn')\n",
    "plt.show()"
   ]
  },
  {
   "cell_type": "code",
   "execution_count": 6,
   "metadata": {},
   "outputs": [],
   "source": [
    "num_inputs = 2\n",
    "def data_iter(batch_size, features, labels):\n",
    "    num_examples = len(features)\n",
    "    indices = list(range(num_examples))\n",
    "    np.random.shuffle(indices)\n",
    "    for i in range(0, num_examples, batch_size):\n",
    "        j = torch.LongTensor(indices[i: min(i + batch_size, num_examples)])\n",
    "        yield features.index_select(0, j), labels.index_select(0, j)"
   ]
  },
  {
   "cell_type": "markdown",
   "metadata": {},
   "source": [
    "## 2 初始化模型参数"
   ]
  },
  {
   "cell_type": "code",
   "execution_count": 7,
   "metadata": {
    "ExecuteTime": {
     "end_time": "2020-07-02T05:17:36.984278Z",
     "start_time": "2020-07-02T05:17:36.966989Z"
    }
   },
   "outputs": [
    {
     "data": {
      "text/plain": [
       "(tensor([[-0.0050],\n",
       "         [-0.0064]], requires_grad=True), tensor([0.], requires_grad=True))"
      ]
     },
     "execution_count": 7,
     "metadata": {},
     "output_type": "execute_result"
    }
   ],
   "source": [
    "w = torch.tensor(np.random.normal(0, 0.01, (num_inputs, 1)), dtype=torch.float32, requires_grad=True)\n",
    "b = torch.zeros(1, dtype=torch.float32, requires_grad=True)\n",
    "w, b"
   ]
  },
  {
   "cell_type": "markdown",
   "metadata": {},
   "source": [
    "## 3 定义模型"
   ]
  },
  {
   "cell_type": "code",
   "execution_count": 8,
   "metadata": {
    "ExecuteTime": {
     "end_time": "2020-07-02T05:17:24.010974Z",
     "start_time": "2020-07-02T05:17:24.006689Z"
    }
   },
   "outputs": [],
   "source": [
    "def sigmoid(z):\n",
    "    return 1 / (1 + torch.exp(-z))\n",
    "\n",
    "\n",
    "def logical(X, w, b):\n",
    "    return sigmoid(torch.mm(X, w) + b)"
   ]
  },
  {
   "cell_type": "code",
   "execution_count": 9,
   "metadata": {},
   "outputs": [],
   "source": []
  },
  {
   "cell_type": "code",
   "execution_count": 11,
   "metadata": {},
   "outputs": [
    {
     "data": {
      "text/plain": [
       "tensor([[0.4950],\n",
       "        [0.4957],\n",
       "        [0.4953],\n",
       "        [0.4927],\n",
       "        [0.4955],\n",
       "        [0.4948],\n",
       "        [0.4958],\n",
       "        [0.4949],\n",
       "        [0.4933],\n",
       "        [0.4932],\n",
       "        [0.4947],\n",
       "        [0.4915],\n",
       "        [0.4872],\n",
       "        [0.4946],\n",
       "        [0.4952],\n",
       "        [0.4910],\n",
       "        [0.4949],\n",
       "        [0.4975],\n",
       "        [0.4970],\n",
       "        [0.4946],\n",
       "        [0.4946],\n",
       "        [0.4930],\n",
       "        [0.4936],\n",
       "        [0.4963],\n",
       "        [0.4968],\n",
       "        [0.4906],\n",
       "        [0.4939],\n",
       "        [0.4932],\n",
       "        [0.4941],\n",
       "        [0.4958],\n",
       "        [0.4979],\n",
       "        [0.4921],\n",
       "        [0.4898],\n",
       "        [0.4921],\n",
       "        [0.4939],\n",
       "        [0.4941],\n",
       "        [0.4939],\n",
       "        [0.4943],\n",
       "        [0.4908],\n",
       "        [0.4944],\n",
       "        [0.5034],\n",
       "        [0.5004],\n",
       "        [0.5065],\n",
       "        [0.5060],\n",
       "        [0.5028],\n",
       "        [0.5078],\n",
       "        [0.5040],\n",
       "        [0.5099],\n",
       "        [0.5046],\n",
       "        [0.5053],\n",
       "        [0.5084],\n",
       "        [0.5065],\n",
       "        [0.5066],\n",
       "        [0.5060],\n",
       "        [0.5071],\n",
       "        [0.5070],\n",
       "        [0.5049],\n",
       "        [0.5037],\n",
       "        [0.5068],\n",
       "        [0.5071],\n",
       "        [0.5054],\n",
       "        [0.5035],\n",
       "        [0.5083],\n",
       "        [0.5078],\n",
       "        [0.5029],\n",
       "        [0.5042],\n",
       "        [0.5048],\n",
       "        [0.5058],\n",
       "        [0.5078],\n",
       "        [0.5035],\n",
       "        [0.5074],\n",
       "        [0.5035],\n",
       "        [0.5059],\n",
       "        [0.5073],\n",
       "        [0.5034],\n",
       "        [0.5052],\n",
       "        [0.5041],\n",
       "        [0.5018],\n",
       "        [0.5055],\n",
       "        [0.5057]], grad_fn=<MulBackward0>)"
      ]
     },
     "execution_count": 11,
     "metadata": {},
     "output_type": "execute_result"
    }
   ],
   "source": [
    "logical(X_train, w, b) # 检测是否错误"
   ]
  },
  {
   "cell_type": "markdown",
   "metadata": {},
   "source": [
    "## 4 定义优化算法"
   ]
  },
  {
   "cell_type": "code",
   "execution_count": 12,
   "metadata": {
    "ExecuteTime": {
     "end_time": "2020-07-02T05:17:24.391828Z",
     "start_time": "2020-07-02T05:17:24.386350Z"
    }
   },
   "outputs": [],
   "source": [
    "def sgd(params, lr, batch_size):\n",
    "    for param in params:\n",
    "        param.data -= lr * param.grad / batch_size"
   ]
  },
  {
   "cell_type": "markdown",
   "metadata": {},
   "source": [
    "## 5 定义损失函数"
   ]
  },
  {
   "cell_type": "code",
   "execution_count": 13,
   "metadata": {
    "ExecuteTime": {
     "end_time": "2020-07-02T06:44:43.063475Z",
     "start_time": "2020-07-02T06:44:43.058090Z"
    }
   },
   "outputs": [],
   "source": [
    "# 定义二元交叉熵函数\n",
    "def Cross_Entropy_loss(y_hat, y, batch_size):\n",
    "    return -1/batch_size * ((y.view(y_hat.shape) * torch.log(y_hat) + (1 - y.view(y_hat.shape)) * torch.log(1 - y_hat)).sum())"
   ]
  },
  {
   "cell_type": "code",
   "execution_count": 17,
   "metadata": {},
   "outputs": [
    {
     "data": {
      "text/plain": [
       "tensor(0.6817, grad_fn=<MulBackward0>)"
      ]
     },
     "execution_count": 17,
     "metadata": {},
     "output_type": "execute_result"
    }
   ],
   "source": [
    "loss = Cross_Entropy_loss(logical(X_train, w, b), y_train, X_train.shape[0])\n",
    "loss"
   ]
  },
  {
   "cell_type": "markdown",
   "metadata": {},
   "source": [
    "## 6 训练模型"
   ]
  },
  {
   "cell_type": "code",
   "execution_count": 14,
   "metadata": {},
   "outputs": [],
   "source": [
    "def predict(X, w, b):\n",
    "    Pre = net(X, w, b)\n",
    "    result = []\n",
    "    for p in Pre:\n",
    "        if p > 0.5:\n",
    "            result.append(1)\n",
    "        else:\n",
    "            result.append(0)\n",
    "    return result"
   ]
  },
  {
   "cell_type": "code",
   "execution_count": 15,
   "metadata": {},
   "outputs": [],
   "source": [
    "def accuracy(X, y, w, b): \n",
    "    pred = torch.tensor(predict(X, w, b))\n",
    "    L = (pred == y).float().mean().item()\n",
    "    return L"
   ]
  },
  {
   "cell_type": "code",
   "execution_count": null,
   "metadata": {},
   "outputs": [],
   "source": []
  },
  {
   "cell_type": "code",
   "execution_count": 20,
   "metadata": {
    "ExecuteTime": {
     "end_time": "2020-07-02T05:17:48.652396Z",
     "start_time": "2020-07-02T05:17:47.985886Z"
    },
    "scrolled": true
   },
   "outputs": [
    {
     "name": "stdout",
     "output_type": "stream",
     "text": [
      "epoch 1, loss_train: 0.122477, acc_train: 100 %\n",
      "epoch 2, loss_train: 0.122177, acc_train: 100 %\n",
      "epoch 3, loss_train: 0.121879, acc_train: 100 %\n",
      "epoch 4, loss_train: 0.121582, acc_train: 100 %\n",
      "epoch 5, loss_train: 0.121287, acc_train: 100 %\n",
      "epoch 6, loss_train: 0.120993, acc_train: 100 %\n",
      "epoch 7, loss_train: 0.120701, acc_train: 100 %\n",
      "epoch 8, loss_train: 0.120411, acc_train: 100 %\n",
      "epoch 9, loss_train: 0.120122, acc_train: 100 %\n",
      "epoch 10, loss_train: 0.119835, acc_train: 100 %\n",
      "epoch 11, loss_train: 0.119550, acc_train: 100 %\n",
      "epoch 12, loss_train: 0.119266, acc_train: 100 %\n",
      "epoch 13, loss_train: 0.118983, acc_train: 100 %\n",
      "epoch 14, loss_train: 0.118702, acc_train: 100 %\n",
      "epoch 15, loss_train: 0.118423, acc_train: 100 %\n",
      "epoch 16, loss_train: 0.118145, acc_train: 100 %\n",
      "epoch 17, loss_train: 0.117868, acc_train: 100 %\n",
      "epoch 18, loss_train: 0.117593, acc_train: 100 %\n",
      "epoch 19, loss_train: 0.117320, acc_train: 100 %\n",
      "epoch 20, loss_train: 0.117048, acc_train: 100 %\n",
      "epoch 21, loss_train: 0.116777, acc_train: 100 %\n",
      "epoch 22, loss_train: 0.116508, acc_train: 100 %\n",
      "epoch 23, loss_train: 0.116240, acc_train: 100 %\n",
      "epoch 24, loss_train: 0.115974, acc_train: 100 %\n",
      "epoch 25, loss_train: 0.115709, acc_train: 100 %\n",
      "epoch 26, loss_train: 0.115446, acc_train: 100 %\n",
      "epoch 27, loss_train: 0.115183, acc_train: 100 %\n",
      "epoch 28, loss_train: 0.114923, acc_train: 100 %\n",
      "epoch 29, loss_train: 0.114663, acc_train: 100 %\n",
      "epoch 30, loss_train: 0.114405, acc_train: 100 %\n",
      "epoch 31, loss_train: 0.114148, acc_train: 100 %\n",
      "epoch 32, loss_train: 0.113893, acc_train: 100 %\n",
      "epoch 33, loss_train: 0.113639, acc_train: 100 %\n",
      "epoch 34, loss_train: 0.113386, acc_train: 100 %\n",
      "epoch 35, loss_train: 0.113134, acc_train: 100 %\n",
      "epoch 36, loss_train: 0.112884, acc_train: 100 %\n",
      "epoch 37, loss_train: 0.112635, acc_train: 100 %\n",
      "epoch 38, loss_train: 0.112387, acc_train: 100 %\n",
      "epoch 39, loss_train: 0.112141, acc_train: 100 %\n",
      "epoch 40, loss_train: 0.111896, acc_train: 100 %\n",
      "epoch 41, loss_train: 0.111651, acc_train: 100 %\n",
      "epoch 42, loss_train: 0.111409, acc_train: 100 %\n",
      "epoch 43, loss_train: 0.111167, acc_train: 100 %\n",
      "epoch 44, loss_train: 0.110927, acc_train: 100 %\n",
      "epoch 45, loss_train: 0.110687, acc_train: 100 %\n",
      "epoch 46, loss_train: 0.110449, acc_train: 100 %\n",
      "epoch 47, loss_train: 0.110213, acc_train: 100 %\n",
      "epoch 48, loss_train: 0.109977, acc_train: 100 %\n",
      "epoch 49, loss_train: 0.109742, acc_train: 100 %\n",
      "epoch 50, loss_train: 0.109509, acc_train: 100 %\n",
      "epoch 51, loss_train: 0.109277, acc_train: 100 %\n",
      "epoch 52, loss_train: 0.109046, acc_train: 100 %\n",
      "epoch 53, loss_train: 0.108816, acc_train: 100 %\n",
      "epoch 54, loss_train: 0.108587, acc_train: 100 %\n",
      "epoch 55, loss_train: 0.108359, acc_train: 100 %\n",
      "epoch 56, loss_train: 0.108133, acc_train: 100 %\n",
      "epoch 57, loss_train: 0.107907, acc_train: 100 %\n",
      "epoch 58, loss_train: 0.107683, acc_train: 100 %\n",
      "epoch 59, loss_train: 0.107459, acc_train: 100 %\n",
      "epoch 60, loss_train: 0.107237, acc_train: 100 %\n",
      "epoch 61, loss_train: 0.107016, acc_train: 100 %\n",
      "epoch 62, loss_train: 0.106795, acc_train: 100 %\n",
      "epoch 63, loss_train: 0.106576, acc_train: 100 %\n",
      "epoch 64, loss_train: 0.106358, acc_train: 100 %\n",
      "epoch 65, loss_train: 0.106141, acc_train: 100 %\n",
      "epoch 66, loss_train: 0.105925, acc_train: 100 %\n",
      "epoch 67, loss_train: 0.105710, acc_train: 100 %\n",
      "epoch 68, loss_train: 0.105496, acc_train: 100 %\n",
      "epoch 69, loss_train: 0.105283, acc_train: 100 %\n",
      "epoch 70, loss_train: 0.105071, acc_train: 100 %\n",
      "epoch 71, loss_train: 0.104860, acc_train: 100 %\n",
      "epoch 72, loss_train: 0.104649, acc_train: 100 %\n",
      "epoch 73, loss_train: 0.104440, acc_train: 100 %\n",
      "epoch 74, loss_train: 0.104232, acc_train: 100 %\n",
      "epoch 75, loss_train: 0.104025, acc_train: 100 %\n",
      "epoch 76, loss_train: 0.103819, acc_train: 100 %\n",
      "epoch 77, loss_train: 0.103613, acc_train: 100 %\n",
      "epoch 78, loss_train: 0.103409, acc_train: 100 %\n",
      "epoch 79, loss_train: 0.103205, acc_train: 100 %\n",
      "epoch 80, loss_train: 0.103003, acc_train: 100 %\n",
      "epoch 81, loss_train: 0.102801, acc_train: 100 %\n",
      "epoch 82, loss_train: 0.102601, acc_train: 100 %\n",
      "epoch 83, loss_train: 0.102401, acc_train: 100 %\n",
      "epoch 84, loss_train: 0.102202, acc_train: 100 %\n",
      "epoch 85, loss_train: 0.102004, acc_train: 100 %\n",
      "epoch 86, loss_train: 0.101807, acc_train: 100 %\n",
      "epoch 87, loss_train: 0.101611, acc_train: 100 %\n",
      "epoch 88, loss_train: 0.101415, acc_train: 100 %\n",
      "epoch 89, loss_train: 0.101221, acc_train: 100 %\n",
      "epoch 90, loss_train: 0.101027, acc_train: 100 %\n",
      "epoch 91, loss_train: 0.100834, acc_train: 100 %\n",
      "epoch 92, loss_train: 0.100642, acc_train: 100 %\n",
      "epoch 93, loss_train: 0.100451, acc_train: 100 %\n",
      "epoch 94, loss_train: 0.100261, acc_train: 100 %\n",
      "epoch 95, loss_train: 0.100072, acc_train: 100 %\n",
      "epoch 96, loss_train: 0.099883, acc_train: 100 %\n",
      "epoch 97, loss_train: 0.099696, acc_train: 100 %\n",
      "epoch 98, loss_train: 0.099509, acc_train: 100 %\n",
      "epoch 99, loss_train: 0.099322, acc_train: 100 %\n",
      "epoch 100, loss_train: 0.099137, acc_train: 100 %\n",
      "epoch 101, loss_train: 0.098953, acc_train: 100 %\n",
      "epoch 102, loss_train: 0.098769, acc_train: 100 %\n",
      "epoch 103, loss_train: 0.098586, acc_train: 100 %\n",
      "epoch 104, loss_train: 0.098404, acc_train: 100 %\n",
      "epoch 105, loss_train: 0.098223, acc_train: 100 %\n",
      "epoch 106, loss_train: 0.098042, acc_train: 100 %\n",
      "epoch 107, loss_train: 0.097862, acc_train: 100 %\n",
      "epoch 108, loss_train: 0.097683, acc_train: 100 %\n",
      "epoch 109, loss_train: 0.097505, acc_train: 100 %\n",
      "epoch 110, loss_train: 0.097327, acc_train: 100 %\n",
      "epoch 111, loss_train: 0.097151, acc_train: 100 %\n",
      "epoch 112, loss_train: 0.096974, acc_train: 100 %\n",
      "epoch 113, loss_train: 0.096799, acc_train: 100 %\n",
      "epoch 114, loss_train: 0.096625, acc_train: 100 %\n",
      "epoch 115, loss_train: 0.096451, acc_train: 100 %\n",
      "epoch 116, loss_train: 0.096278, acc_train: 100 %\n",
      "epoch 117, loss_train: 0.096105, acc_train: 100 %\n",
      "epoch 118, loss_train: 0.095934, acc_train: 100 %\n",
      "epoch 119, loss_train: 0.095763, acc_train: 100 %\n",
      "epoch 120, loss_train: 0.095592, acc_train: 100 %\n",
      "epoch 121, loss_train: 0.095423, acc_train: 100 %\n",
      "epoch 122, loss_train: 0.095254, acc_train: 100 %\n",
      "epoch 123, loss_train: 0.095086, acc_train: 100 %\n",
      "epoch 124, loss_train: 0.094918, acc_train: 100 %\n",
      "epoch 125, loss_train: 0.094752, acc_train: 100 %\n",
      "epoch 126, loss_train: 0.094586, acc_train: 100 %\n",
      "epoch 127, loss_train: 0.094420, acc_train: 100 %\n",
      "epoch 128, loss_train: 0.094255, acc_train: 100 %\n",
      "epoch 129, loss_train: 0.094091, acc_train: 100 %\n",
      "epoch 130, loss_train: 0.093928, acc_train: 100 %\n",
      "epoch 131, loss_train: 0.093765, acc_train: 100 %\n",
      "epoch 132, loss_train: 0.093603, acc_train: 100 %\n",
      "epoch 133, loss_train: 0.093442, acc_train: 100 %\n",
      "epoch 134, loss_train: 0.093281, acc_train: 100 %\n",
      "epoch 135, loss_train: 0.093121, acc_train: 100 %\n",
      "epoch 136, loss_train: 0.092961, acc_train: 100 %\n",
      "epoch 137, loss_train: 0.092802, acc_train: 100 %\n",
      "epoch 138, loss_train: 0.092644, acc_train: 100 %\n",
      "epoch 139, loss_train: 0.092486, acc_train: 100 %\n",
      "epoch 140, loss_train: 0.092330, acc_train: 100 %\n",
      "epoch 141, loss_train: 0.092173, acc_train: 100 %\n",
      "epoch 142, loss_train: 0.092017, acc_train: 100 %\n",
      "epoch 143, loss_train: 0.091862, acc_train: 100 %\n",
      "epoch 144, loss_train: 0.091708, acc_train: 100 %\n",
      "epoch 145, loss_train: 0.091554, acc_train: 100 %\n",
      "epoch 146, loss_train: 0.091401, acc_train: 100 %\n",
      "epoch 147, loss_train: 0.091248, acc_train: 100 %\n",
      "epoch 148, loss_train: 0.091096, acc_train: 100 %\n",
      "epoch 149, loss_train: 0.090944, acc_train: 100 %\n",
      "epoch 150, loss_train: 0.090793, acc_train: 100 %\n",
      "epoch 151, loss_train: 0.090643, acc_train: 100 %\n",
      "epoch 152, loss_train: 0.090493, acc_train: 100 %\n",
      "epoch 153, loss_train: 0.090344, acc_train: 100 %\n",
      "epoch 154, loss_train: 0.090195, acc_train: 100 %\n",
      "epoch 155, loss_train: 0.090047, acc_train: 100 %\n",
      "epoch 156, loss_train: 0.089900, acc_train: 100 %\n",
      "epoch 157, loss_train: 0.089753, acc_train: 100 %\n",
      "epoch 158, loss_train: 0.089606, acc_train: 100 %\n",
      "epoch 159, loss_train: 0.089461, acc_train: 100 %\n",
      "epoch 160, loss_train: 0.089315, acc_train: 100 %\n",
      "epoch 161, loss_train: 0.089171, acc_train: 100 %\n",
      "epoch 162, loss_train: 0.089026, acc_train: 100 %\n",
      "epoch 163, loss_train: 0.088883, acc_train: 100 %\n",
      "epoch 164, loss_train: 0.088740, acc_train: 100 %\n",
      "epoch 165, loss_train: 0.088597, acc_train: 100 %\n",
      "epoch 166, loss_train: 0.088455, acc_train: 100 %\n",
      "epoch 167, loss_train: 0.088314, acc_train: 100 %\n",
      "epoch 168, loss_train: 0.088173, acc_train: 100 %\n",
      "epoch 169, loss_train: 0.088032, acc_train: 100 %\n",
      "epoch 170, loss_train: 0.087893, acc_train: 100 %\n",
      "epoch 171, loss_train: 0.087753, acc_train: 100 %\n",
      "epoch 172, loss_train: 0.087614, acc_train: 100 %\n",
      "epoch 173, loss_train: 0.087476, acc_train: 100 %\n",
      "epoch 174, loss_train: 0.087338, acc_train: 100 %\n",
      "epoch 175, loss_train: 0.087201, acc_train: 100 %\n",
      "epoch 176, loss_train: 0.087064, acc_train: 100 %\n",
      "epoch 177, loss_train: 0.086928, acc_train: 100 %\n",
      "epoch 178, loss_train: 0.086792, acc_train: 100 %\n",
      "epoch 179, loss_train: 0.086657, acc_train: 100 %\n",
      "epoch 180, loss_train: 0.086522, acc_train: 100 %\n",
      "epoch 181, loss_train: 0.086387, acc_train: 100 %\n",
      "epoch 182, loss_train: 0.086254, acc_train: 100 %\n",
      "epoch 183, loss_train: 0.086120, acc_train: 100 %\n",
      "epoch 184, loss_train: 0.085987, acc_train: 100 %\n",
      "epoch 185, loss_train: 0.085855, acc_train: 100 %\n",
      "epoch 186, loss_train: 0.085723, acc_train: 100 %\n",
      "epoch 187, loss_train: 0.085592, acc_train: 100 %\n",
      "epoch 188, loss_train: 0.085461, acc_train: 100 %\n",
      "epoch 189, loss_train: 0.085330, acc_train: 100 %\n",
      "epoch 190, loss_train: 0.085200, acc_train: 100 %\n",
      "epoch 191, loss_train: 0.085070, acc_train: 100 %\n",
      "epoch 192, loss_train: 0.084941, acc_train: 100 %\n",
      "epoch 193, loss_train: 0.084813, acc_train: 100 %\n",
      "epoch 194, loss_train: 0.084684, acc_train: 100 %\n",
      "epoch 195, loss_train: 0.084557, acc_train: 100 %\n",
      "epoch 196, loss_train: 0.084429, acc_train: 100 %\n",
      "epoch 197, loss_train: 0.084303, acc_train: 100 %\n",
      "epoch 198, loss_train: 0.084176, acc_train: 100 %\n",
      "epoch 199, loss_train: 0.084050, acc_train: 100 %\n",
      "epoch 200, loss_train: 0.083925, acc_train: 100 %\n",
      "epoch 201, loss_train: 0.083800, acc_train: 100 %\n",
      "epoch 202, loss_train: 0.083675, acc_train: 100 %\n",
      "epoch 203, loss_train: 0.083551, acc_train: 100 %\n",
      "epoch 204, loss_train: 0.083427, acc_train: 100 %\n",
      "epoch 205, loss_train: 0.083304, acc_train: 100 %\n",
      "epoch 206, loss_train: 0.083181, acc_train: 100 %\n",
      "epoch 207, loss_train: 0.083058, acc_train: 100 %\n",
      "epoch 208, loss_train: 0.082936, acc_train: 100 %\n",
      "epoch 209, loss_train: 0.082815, acc_train: 100 %\n",
      "epoch 210, loss_train: 0.082693, acc_train: 100 %\n",
      "epoch 211, loss_train: 0.082573, acc_train: 100 %\n",
      "epoch 212, loss_train: 0.082452, acc_train: 100 %\n",
      "epoch 213, loss_train: 0.082332, acc_train: 100 %\n",
      "epoch 214, loss_train: 0.082213, acc_train: 100 %\n",
      "epoch 215, loss_train: 0.082094, acc_train: 100 %\n",
      "epoch 216, loss_train: 0.081975, acc_train: 100 %\n",
      "epoch 217, loss_train: 0.081857, acc_train: 100 %\n",
      "epoch 218, loss_train: 0.081739, acc_train: 100 %\n",
      "epoch 219, loss_train: 0.081621, acc_train: 100 %\n",
      "epoch 220, loss_train: 0.081504, acc_train: 100 %\n",
      "epoch 221, loss_train: 0.081387, acc_train: 100 %\n",
      "epoch 222, loss_train: 0.081271, acc_train: 100 %\n",
      "epoch 223, loss_train: 0.081155, acc_train: 100 %\n",
      "epoch 224, loss_train: 0.081039, acc_train: 100 %\n",
      "epoch 225, loss_train: 0.080924, acc_train: 100 %\n",
      "epoch 226, loss_train: 0.080809, acc_train: 100 %\n",
      "epoch 227, loss_train: 0.080695, acc_train: 100 %\n",
      "epoch 228, loss_train: 0.080581, acc_train: 100 %\n",
      "epoch 229, loss_train: 0.080467, acc_train: 100 %\n",
      "epoch 230, loss_train: 0.080354, acc_train: 100 %\n",
      "epoch 231, loss_train: 0.080241, acc_train: 100 %\n",
      "epoch 232, loss_train: 0.080128, acc_train: 100 %\n",
      "epoch 233, loss_train: 0.080016, acc_train: 100 %\n",
      "epoch 234, loss_train: 0.079904, acc_train: 100 %\n",
      "epoch 235, loss_train: 0.079793, acc_train: 100 %\n",
      "epoch 236, loss_train: 0.079682, acc_train: 100 %\n",
      "epoch 237, loss_train: 0.079571, acc_train: 100 %\n",
      "epoch 238, loss_train: 0.079461, acc_train: 100 %\n",
      "epoch 239, loss_train: 0.079351, acc_train: 100 %\n",
      "epoch 240, loss_train: 0.079241, acc_train: 100 %\n",
      "epoch 241, loss_train: 0.079132, acc_train: 100 %\n",
      "epoch 242, loss_train: 0.079023, acc_train: 100 %\n",
      "epoch 243, loss_train: 0.078915, acc_train: 100 %\n",
      "epoch 244, loss_train: 0.078806, acc_train: 100 %\n",
      "epoch 245, loss_train: 0.078698, acc_train: 100 %\n",
      "epoch 246, loss_train: 0.078591, acc_train: 100 %\n",
      "epoch 247, loss_train: 0.078484, acc_train: 100 %\n",
      "epoch 248, loss_train: 0.078377, acc_train: 100 %\n",
      "epoch 249, loss_train: 0.078270, acc_train: 100 %\n",
      "epoch 250, loss_train: 0.078164, acc_train: 100 %\n",
      "epoch 251, loss_train: 0.078059, acc_train: 100 %\n",
      "epoch 252, loss_train: 0.077953, acc_train: 100 %\n",
      "epoch 253, loss_train: 0.077848, acc_train: 100 %\n",
      "epoch 254, loss_train: 0.077743, acc_train: 100 %\n",
      "epoch 255, loss_train: 0.077639, acc_train: 100 %\n",
      "epoch 256, loss_train: 0.077535, acc_train: 100 %\n",
      "epoch 257, loss_train: 0.077431, acc_train: 100 %\n",
      "epoch 258, loss_train: 0.077327, acc_train: 100 %\n",
      "epoch 259, loss_train: 0.077224, acc_train: 100 %\n",
      "epoch 260, loss_train: 0.077121, acc_train: 100 %\n",
      "epoch 261, loss_train: 0.077019, acc_train: 100 %\n",
      "epoch 262, loss_train: 0.076917, acc_train: 100 %\n",
      "epoch 263, loss_train: 0.076815, acc_train: 100 %\n",
      "epoch 264, loss_train: 0.076713, acc_train: 100 %\n",
      "epoch 265, loss_train: 0.076612, acc_train: 100 %\n",
      "epoch 266, loss_train: 0.076511, acc_train: 100 %\n",
      "epoch 267, loss_train: 0.076411, acc_train: 100 %\n",
      "epoch 268, loss_train: 0.076310, acc_train: 100 %\n",
      "epoch 269, loss_train: 0.076210, acc_train: 100 %\n",
      "epoch 270, loss_train: 0.076111, acc_train: 100 %\n",
      "epoch 271, loss_train: 0.076011, acc_train: 100 %\n",
      "epoch 272, loss_train: 0.075912, acc_train: 100 %\n",
      "epoch 273, loss_train: 0.075814, acc_train: 100 %\n",
      "epoch 274, loss_train: 0.075715, acc_train: 100 %\n",
      "epoch 275, loss_train: 0.075617, acc_train: 100 %\n",
      "epoch 276, loss_train: 0.075519, acc_train: 100 %\n",
      "epoch 277, loss_train: 0.075422, acc_train: 100 %\n",
      "epoch 278, loss_train: 0.075324, acc_train: 100 %\n",
      "epoch 279, loss_train: 0.075228, acc_train: 100 %\n",
      "epoch 280, loss_train: 0.075131, acc_train: 100 %\n",
      "epoch 281, loss_train: 0.075035, acc_train: 100 %\n",
      "epoch 282, loss_train: 0.074939, acc_train: 100 %\n",
      "epoch 283, loss_train: 0.074843, acc_train: 100 %\n",
      "epoch 284, loss_train: 0.074747, acc_train: 100 %\n",
      "epoch 285, loss_train: 0.074652, acc_train: 100 %\n",
      "epoch 286, loss_train: 0.074557, acc_train: 100 %\n",
      "epoch 287, loss_train: 0.074463, acc_train: 100 %\n",
      "epoch 288, loss_train: 0.074368, acc_train: 100 %\n",
      "epoch 289, loss_train: 0.074274, acc_train: 100 %\n",
      "epoch 290, loss_train: 0.074180, acc_train: 100 %\n",
      "epoch 291, loss_train: 0.074087, acc_train: 100 %\n",
      "epoch 292, loss_train: 0.073994, acc_train: 100 %\n",
      "epoch 293, loss_train: 0.073901, acc_train: 100 %\n",
      "epoch 294, loss_train: 0.073808, acc_train: 100 %\n",
      "epoch 295, loss_train: 0.073716, acc_train: 100 %\n",
      "epoch 296, loss_train: 0.073624, acc_train: 100 %\n",
      "epoch 297, loss_train: 0.073532, acc_train: 100 %\n",
      "epoch 298, loss_train: 0.073440, acc_train: 100 %\n",
      "epoch 299, loss_train: 0.073349, acc_train: 100 %\n",
      "epoch 300, loss_train: 0.073258, acc_train: 100 %\n"
     ]
    }
   ],
   "source": [
    "lr = 0.1\n",
    "num_epochs = 300\n",
    "net = logical\n",
    "loss = Cross_Entropy_loss\n",
    "batch_size = 40\n",
    "loss_train = []\n",
    "loss_test = []\n",
    "acc_train = []\n",
    "acc_test = []\n",
    "for epoch in range(num_epochs):\n",
    "    for datas, labels in data_iter(batch_size, X_train, y_train):\n",
    "        l = loss(net(datas, w, b), labels, batch_size)\n",
    "        l.backward()\n",
    "        sgd([w, b], lr, batch_size)\n",
    "        w.grad.data.zero_()\n",
    "        b.grad.data.zero_()\n",
    "        \n",
    "    #记录每一个epoch的值    \n",
    "    train_l = loss(net(X_train, w, b), y_train, X_train.shape[0])\n",
    "    loss_train.append(train_l.item())\n",
    "    train_acc = accuracy(X_train, y_train, w, b)\n",
    "    acc_train.append(train_acc * 100)\n",
    "    \n",
    "    loss_test.append(loss(net(X_test, w, b), y_test, X_test.shape[0]).item())\n",
    "    acc_test.append(accuracy(X_test, y_test, w, b) * 100)\n",
    "    print('epoch %d, loss_train: %f, acc_train: %.f' % (epoch + 1, train_l.item(), train_acc * 100), '%')\n",
    "#     print('epoch %d, loss_train: %f' % (epoch + 1, train_l.item()))"
   ]
  },
  {
   "cell_type": "markdown",
   "metadata": {},
   "source": [
    "## 7 结果可视化"
   ]
  },
  {
   "cell_type": "code",
   "execution_count": 22,
   "metadata": {},
   "outputs": [],
   "source": [
    "Res = predict(X_test, w, b)"
   ]
  },
  {
   "cell_type": "code",
   "execution_count": 24,
   "metadata": {
    "ExecuteTime": {
     "end_time": "2020-07-02T05:17:56.589841Z",
     "start_time": "2020-07-02T05:17:56.385952Z"
    }
   },
   "outputs": [
    {
     "data": {
      "image/png": "[encoded data removed]",
      "text/plain": [
       "<Figure size 432x288 with 2 Axes>"
      ]
     },
     "metadata": {
      "needs_background": "light"
     },
     "output_type": "display_data"
    }
   ],
   "source": [
    "plt.subplot(1, 2, 1)\n",
    "plt.scatter(X_test.data.numpy()[:, 0], X_test.data.numpy()[:, 1], c=Res, s=50, cmap='RdYlGn')\n",
    "plt.title('my work')\n",
    "plt.subplot(1, 2, 2)\n",
    "plt.scatter(X_test.data.numpy()[:, 0], X_test.data.numpy()[:, 1], c=y_test.data.numpy(), s=50, cmap='RdYlGn')\n",
    "plt.title('Origin')\n",
    "plt.show()"
   ]
  },
  {
   "cell_type": "code",
   "execution_count": 25,
   "metadata": {},
   "outputs": [
    {
     "data": {
      "text/plain": [
       "Text(0.5, 1.0, 'acc_test')"
      ]
     },
     "execution_count": 25,
     "metadata": {},
     "output_type": "execute_result"
    },
    {
     "data": {
      "image/png": "[encoded data removed]",
      "text/plain": [
       "<Figure size 432x288 with 4 Axes>"
      ]
     },
     "metadata": {
      "needs_background": "light"
     },
     "output_type": "display_data"
    }
   ],
   "source": [
    "plt.subplot(3,3,1)\n",
    "plt.plot(range(num_epochs), loss_train)\n",
    "plt.title('loss_train')\n",
    "plt.subplot(3,3,3)\n",
    "plt.plot(range(num_epochs), loss_test)\n",
    "plt.title('loss_test')\n",
    "plt.subplot(3,3,7)\n",
    "plt.plot(range(num_epochs), acc_train)\n",
    "plt.title('acc_train')\n",
    "plt.subplot(3,3,9)\n",
    "plt.plot(range(num_epochs), acc_test)\n",
    "plt.title('acc_test')"
   ]
  },
  {
   "cell_type": "code",
   "execution_count": null,
   "metadata": {},
   "outputs": [],
   "source": []
  }
 ],
 "metadata": {
  "kernelspec": {
   "display_name": "Python 3 (ipykernel)",
   "language": "python",
   "name": "python3"
  },
  "language_info": {
   "codemirror_mode": {
    "name": "ipython",
    "version": 3
   },
   "file_extension": ".py",
   "mimetype": "text/x-python",
   "name": "python",
   "nbconvert_exporter": "python",
   "pygments_lexer": "ipython3",
   "version": "3.7.4"
  },
  "toc": {
   "base_numbering": 1,
   "nav_menu": {},
   "number_sections": false,
   "sideBar": true,
   "skip_h1_title": true,
   "title_cell": "Table of Contents",
   "title_sidebar": "Contents",
   "toc_cell": false,
   "toc_position": {},
   "toc_section_display": true,
   "toc_window_display": false
  },
  "varInspector": {
   "cols": {
    "lenName": 16,
    "lenType": 16,
    "lenVar": 40
   },
   "kernels_config": {
    "python": {
     "delete_cmd_postfix": "",
     "delete_cmd_prefix": "del ",
     "library": "var_list.py",
     "varRefreshCmd": "print(var_dic_list())"
    },
    "r": {
     "delete_cmd_postfix": ") ",
     "delete_cmd_prefix": "rm(",
     "library": "var_list.r",
     "varRefreshCmd": "cat(var_dic_list()) "
    }
   },
   "types_to_exclude": [
    "module",
    "function",
    "builtin_function_or_method",
    "instance",
    "_Feature"
   ],
   "window_display": false
  }
 },
 "nbformat": 4,
 "nbformat_minor": 2
}
